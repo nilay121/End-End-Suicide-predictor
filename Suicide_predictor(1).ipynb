{
  "nbformat": 4,
  "nbformat_minor": 0,
  "metadata": {
    "kernelspec": {
      "display_name": "Python 3",
      "language": "python",
      "name": "python3"
    },
    "language_info": {
      "codemirror_mode": {
        "name": "ipython",
        "version": 3
      },
      "file_extension": ".py",
      "mimetype": "text/x-python",
      "name": "python",
      "nbconvert_exporter": "python",
      "pygments_lexer": "ipython3",
      "version": "3.8.8"
    },
    "colab": {
      "name": "Suicide predictor.ipynb",
      "provenance": [],
      "collapsed_sections": []
    }
  },
  "cells": [
    {
      "cell_type": "markdown",
      "metadata": {
        "id": "vLLH6bgYgwWe"
      },
      "source": [
        "\n",
        "\n",
        "Here we will try to predict how many suicides may happen in  different states due to different factors"
      ]
    },
    {
      "cell_type": "code",
      "metadata": {
        "colab": {
          "base_uri": "https://localhost:8080/"
        },
        "id": "1PvM0WozhCWr",
        "outputId": "550f31cd-58b7-4eb6-831a-7a5a20fb809f"
      },
      "source": [
        "from google.colab import drive\n",
        "drive.mount('/content/drive')"
      ],
      "execution_count": 1,
      "outputs": [
        {
          "output_type": "stream",
          "name": "stdout",
          "text": [
            "Mounted at /content/drive\n"
          ]
        }
      ]
    },
    {
      "cell_type": "code",
      "metadata": {
        "id": "eUhAeOnIgwWk"
      },
      "source": [
        "import pandas as pd\n",
        "import numpy as np\n",
        "from sklearn.model_selection import train_test_split\n",
        "from sklearn.metrics import accuracy_score\n",
        "from sklearn.metrics import mean_squared_error\n",
        "import seaborn as sns\n",
        "import matplotlib.pyplot as plt\n",
        "from sklearn.metrics import mean_squared_log_error\n",
        "from sklearn.model_selection import RandomizedSearchCV\n",
        "from sklearn.tree import DecisionTreeRegressor\n",
        "from sklearn.model_selection import GridSearchCV\n",
        "import pickle\n",
        "import warnings\n",
        "from sklearn.pipeline import Pipeline\n",
        "from sklearn.preprocessing import OneHotEncoder"
      ],
      "execution_count": 8,
      "outputs": []
    },
    {
      "cell_type": "code",
      "metadata": {
        "id": "cWtYOpqigwWp"
      },
      "source": [
        "df=pd.read_csv('/content/drive/MyDrive/Colab Notebooks/Suicidee data/Suicides.csv')"
      ],
      "execution_count": 9,
      "outputs": []
    },
    {
      "cell_type": "markdown",
      "metadata": {
        "id": "eh58jdqFgwWr"
      },
      "source": [
        "# EDA"
      ]
    },
    {
      "cell_type": "code",
      "metadata": {
        "colab": {
          "base_uri": "https://localhost:8080/",
          "height": 363
        },
        "id": "-gOkacYKgwWt",
        "outputId": "a70c2f94-85ed-4978-b725-52eb0fb7bc37"
      },
      "source": [
        "df.head(10)"
      ],
      "execution_count": 10,
      "outputs": [
        {
          "output_type": "execute_result",
          "data": {
            "text/html": [
              "<div>\n",
              "<style scoped>\n",
              "    .dataframe tbody tr th:only-of-type {\n",
              "        vertical-align: middle;\n",
              "    }\n",
              "\n",
              "    .dataframe tbody tr th {\n",
              "        vertical-align: top;\n",
              "    }\n",
              "\n",
              "    .dataframe thead th {\n",
              "        text-align: right;\n",
              "    }\n",
              "</style>\n",
              "<table border=\"1\" class=\"dataframe\">\n",
              "  <thead>\n",
              "    <tr style=\"text-align: right;\">\n",
              "      <th></th>\n",
              "      <th>State</th>\n",
              "      <th>Year</th>\n",
              "      <th>Type_code</th>\n",
              "      <th>Type</th>\n",
              "      <th>Gender</th>\n",
              "      <th>Age_group</th>\n",
              "      <th>Total</th>\n",
              "    </tr>\n",
              "  </thead>\n",
              "  <tbody>\n",
              "    <tr>\n",
              "      <th>0</th>\n",
              "      <td>A &amp; N Islands</td>\n",
              "      <td>2001</td>\n",
              "      <td>Causes</td>\n",
              "      <td>Illness (Aids/STD)</td>\n",
              "      <td>Female</td>\n",
              "      <td>0-14</td>\n",
              "      <td>0</td>\n",
              "    </tr>\n",
              "    <tr>\n",
              "      <th>1</th>\n",
              "      <td>A &amp; N Islands</td>\n",
              "      <td>2001</td>\n",
              "      <td>Causes</td>\n",
              "      <td>Bankruptcy or Sudden change in Economic</td>\n",
              "      <td>Female</td>\n",
              "      <td>0-14</td>\n",
              "      <td>0</td>\n",
              "    </tr>\n",
              "    <tr>\n",
              "      <th>2</th>\n",
              "      <td>A &amp; N Islands</td>\n",
              "      <td>2001</td>\n",
              "      <td>Causes</td>\n",
              "      <td>Cancellation/Non-Settlement of Marriage</td>\n",
              "      <td>Female</td>\n",
              "      <td>0-14</td>\n",
              "      <td>0</td>\n",
              "    </tr>\n",
              "    <tr>\n",
              "      <th>3</th>\n",
              "      <td>A &amp; N Islands</td>\n",
              "      <td>2001</td>\n",
              "      <td>Causes</td>\n",
              "      <td>Physical Abuse (Rape/Incest Etc.)</td>\n",
              "      <td>Female</td>\n",
              "      <td>0-14</td>\n",
              "      <td>0</td>\n",
              "    </tr>\n",
              "    <tr>\n",
              "      <th>4</th>\n",
              "      <td>A &amp; N Islands</td>\n",
              "      <td>2001</td>\n",
              "      <td>Causes</td>\n",
              "      <td>Dowry Dispute</td>\n",
              "      <td>Female</td>\n",
              "      <td>0-14</td>\n",
              "      <td>0</td>\n",
              "    </tr>\n",
              "    <tr>\n",
              "      <th>5</th>\n",
              "      <td>A &amp; N Islands</td>\n",
              "      <td>2001</td>\n",
              "      <td>Causes</td>\n",
              "      <td>Family Problems</td>\n",
              "      <td>Female</td>\n",
              "      <td>0-14</td>\n",
              "      <td>0</td>\n",
              "    </tr>\n",
              "    <tr>\n",
              "      <th>6</th>\n",
              "      <td>A &amp; N Islands</td>\n",
              "      <td>2001</td>\n",
              "      <td>Causes</td>\n",
              "      <td>Ideological Causes/Hero Worshipping</td>\n",
              "      <td>Female</td>\n",
              "      <td>0-14</td>\n",
              "      <td>0</td>\n",
              "    </tr>\n",
              "    <tr>\n",
              "      <th>7</th>\n",
              "      <td>A &amp; N Islands</td>\n",
              "      <td>2001</td>\n",
              "      <td>Causes</td>\n",
              "      <td>Other Prolonged Illness</td>\n",
              "      <td>Female</td>\n",
              "      <td>0-14</td>\n",
              "      <td>0</td>\n",
              "    </tr>\n",
              "    <tr>\n",
              "      <th>8</th>\n",
              "      <td>A &amp; N Islands</td>\n",
              "      <td>2001</td>\n",
              "      <td>Causes</td>\n",
              "      <td>Property Dispute</td>\n",
              "      <td>Female</td>\n",
              "      <td>0-14</td>\n",
              "      <td>0</td>\n",
              "    </tr>\n",
              "    <tr>\n",
              "      <th>9</th>\n",
              "      <td>A &amp; N Islands</td>\n",
              "      <td>2001</td>\n",
              "      <td>Causes</td>\n",
              "      <td>Fall in Social Reputation</td>\n",
              "      <td>Female</td>\n",
              "      <td>0-14</td>\n",
              "      <td>0</td>\n",
              "    </tr>\n",
              "  </tbody>\n",
              "</table>\n",
              "</div>"
            ],
            "text/plain": [
              "           State  Year Type_code  ...  Gender Age_group Total\n",
              "0  A & N Islands  2001    Causes  ...  Female      0-14     0\n",
              "1  A & N Islands  2001    Causes  ...  Female      0-14     0\n",
              "2  A & N Islands  2001    Causes  ...  Female      0-14     0\n",
              "3  A & N Islands  2001    Causes  ...  Female      0-14     0\n",
              "4  A & N Islands  2001    Causes  ...  Female      0-14     0\n",
              "5  A & N Islands  2001    Causes  ...  Female      0-14     0\n",
              "6  A & N Islands  2001    Causes  ...  Female      0-14     0\n",
              "7  A & N Islands  2001    Causes  ...  Female      0-14     0\n",
              "8  A & N Islands  2001    Causes  ...  Female      0-14     0\n",
              "9  A & N Islands  2001    Causes  ...  Female      0-14     0\n",
              "\n",
              "[10 rows x 7 columns]"
            ]
          },
          "metadata": {},
          "execution_count": 10
        }
      ]
    },
    {
      "cell_type": "code",
      "metadata": {
        "colab": {
          "base_uri": "https://localhost:8080/"
        },
        "id": "5fSevVGggwWv",
        "outputId": "b2438c83-c92c-41b6-9b74-fdd8d1281a7d"
      },
      "source": [
        "df.shape"
      ],
      "execution_count": 11,
      "outputs": [
        {
          "output_type": "execute_result",
          "data": {
            "text/plain": [
              "(237519, 7)"
            ]
          },
          "metadata": {},
          "execution_count": 11
        }
      ]
    },
    {
      "cell_type": "code",
      "metadata": {
        "colab": {
          "base_uri": "https://localhost:8080/",
          "height": 300
        },
        "id": "46gVtuavgwWw",
        "outputId": "a2281199-56e3-4fab-bf61-cdad2b92d1e7"
      },
      "source": [
        "df.describe()"
      ],
      "execution_count": 12,
      "outputs": [
        {
          "output_type": "execute_result",
          "data": {
            "text/html": [
              "<div>\n",
              "<style scoped>\n",
              "    .dataframe tbody tr th:only-of-type {\n",
              "        vertical-align: middle;\n",
              "    }\n",
              "\n",
              "    .dataframe tbody tr th {\n",
              "        vertical-align: top;\n",
              "    }\n",
              "\n",
              "    .dataframe thead th {\n",
              "        text-align: right;\n",
              "    }\n",
              "</style>\n",
              "<table border=\"1\" class=\"dataframe\">\n",
              "  <thead>\n",
              "    <tr style=\"text-align: right;\">\n",
              "      <th></th>\n",
              "      <th>Year</th>\n",
              "      <th>Total</th>\n",
              "    </tr>\n",
              "  </thead>\n",
              "  <tbody>\n",
              "    <tr>\n",
              "      <th>count</th>\n",
              "      <td>237519.000000</td>\n",
              "      <td>237519.000000</td>\n",
              "    </tr>\n",
              "    <tr>\n",
              "      <th>mean</th>\n",
              "      <td>2006.500448</td>\n",
              "      <td>55.034477</td>\n",
              "    </tr>\n",
              "    <tr>\n",
              "      <th>std</th>\n",
              "      <td>3.452240</td>\n",
              "      <td>792.749038</td>\n",
              "    </tr>\n",
              "    <tr>\n",
              "      <th>min</th>\n",
              "      <td>2001.000000</td>\n",
              "      <td>0.000000</td>\n",
              "    </tr>\n",
              "    <tr>\n",
              "      <th>25%</th>\n",
              "      <td>2004.000000</td>\n",
              "      <td>0.000000</td>\n",
              "    </tr>\n",
              "    <tr>\n",
              "      <th>50%</th>\n",
              "      <td>2007.000000</td>\n",
              "      <td>0.000000</td>\n",
              "    </tr>\n",
              "    <tr>\n",
              "      <th>75%</th>\n",
              "      <td>2010.000000</td>\n",
              "      <td>6.000000</td>\n",
              "    </tr>\n",
              "    <tr>\n",
              "      <th>max</th>\n",
              "      <td>2012.000000</td>\n",
              "      <td>63343.000000</td>\n",
              "    </tr>\n",
              "  </tbody>\n",
              "</table>\n",
              "</div>"
            ],
            "text/plain": [
              "                Year          Total\n",
              "count  237519.000000  237519.000000\n",
              "mean     2006.500448      55.034477\n",
              "std         3.452240     792.749038\n",
              "min      2001.000000       0.000000\n",
              "25%      2004.000000       0.000000\n",
              "50%      2007.000000       0.000000\n",
              "75%      2010.000000       6.000000\n",
              "max      2012.000000   63343.000000"
            ]
          },
          "metadata": {},
          "execution_count": 12
        }
      ]
    },
    {
      "cell_type": "code",
      "metadata": {
        "colab": {
          "base_uri": "https://localhost:8080/"
        },
        "id": "uKgV7B81gwWy",
        "outputId": "7db45919-bef2-4eee-dbf5-36a6336df83e"
      },
      "source": [
        "df['State'].unique()"
      ],
      "execution_count": 13,
      "outputs": [
        {
          "output_type": "execute_result",
          "data": {
            "text/plain": [
              "array(['A & N Islands', 'Andhra Pradesh', 'Arunachal Pradesh', 'Assam',\n",
              "       'Bihar', 'Chandigarh', 'Chhattisgarh', 'D & N Haveli',\n",
              "       'Daman & Diu', 'Delhi (Ut)', 'Goa', 'Gujarat', 'Haryana',\n",
              "       'Himachal Pradesh', 'Jammu & Kashmir', 'Jharkhand', 'Karnataka',\n",
              "       'Kerala', 'Lakshadweep', 'Madhya Pradesh', 'Maharashtra',\n",
              "       'Manipur', 'Meghalaya', 'Mizoram', 'Nagaland', 'Odisha',\n",
              "       'Puducherry', 'Punjab', 'Rajasthan', 'Sikkim', 'Tamil Nadu',\n",
              "       'Total (All India)', 'Total (States)', 'Total (Uts)', 'Tripura',\n",
              "       'Uttar Pradesh', 'Uttarakhand', 'West Bengal'], dtype=object)"
            ]
          },
          "metadata": {},
          "execution_count": 13
        }
      ]
    },
    {
      "cell_type": "code",
      "metadata": {
        "colab": {
          "base_uri": "https://localhost:8080/"
        },
        "id": "jkKEOkIFhR3F",
        "outputId": "60f599ae-3142-4cf6-cedf-c227979f452c"
      },
      "source": [
        "df['Type_code'].unique()"
      ],
      "execution_count": 14,
      "outputs": [
        {
          "output_type": "execute_result",
          "data": {
            "text/plain": [
              "array(['Causes', 'Education_Status', 'Means_adopted',\n",
              "       'Professional_Profile', 'Social_Status'], dtype=object)"
            ]
          },
          "metadata": {},
          "execution_count": 14
        }
      ]
    },
    {
      "cell_type": "code",
      "metadata": {
        "colab": {
          "base_uri": "https://localhost:8080/"
        },
        "id": "T6aKGt-DhZb_",
        "outputId": "9f2cbabf-ab27-46fc-b3ad-afe66dc39649"
      },
      "source": [
        "df['Type'].unique()"
      ],
      "execution_count": 15,
      "outputs": [
        {
          "output_type": "execute_result",
          "data": {
            "text/plain": [
              "array(['Illness (Aids/STD)', 'Bankruptcy or Sudden change in Economic',\n",
              "       'Cancellation/Non-Settlement of Marriage',\n",
              "       'Physical Abuse (Rape/Incest Etc.)', 'Dowry Dispute',\n",
              "       'Family Problems', 'Ideological Causes/Hero Worshipping',\n",
              "       'Other Prolonged Illness', 'Property Dispute',\n",
              "       'Fall in Social Reputation', 'Illegitimate Pregnancy',\n",
              "       'Failure in Examination', 'Insanity/Mental Illness',\n",
              "       'Love Affairs', 'Professional/Career Problem', 'Divorce',\n",
              "       'Drug Abuse/Addiction', 'Not having Children(Barrenness/Impotency',\n",
              "       'Causes Not known', 'Unemployment',\n",
              "       'Other Causes (Please Specity)', 'Poverty', 'Death of Dear Person',\n",
              "       'Cancer', 'Suspected/Illicit Relation', 'Paralysis', 'Diploma',\n",
              "       'No Education', 'Post Graduate and Above', 'Middle', 'Graduate',\n",
              "       'Hr. Secondary/Intermediate/Pre-Universit', 'Primary',\n",
              "       'Matriculate/Secondary', 'By Consuming Insecticides', 'By Hanging',\n",
              "       'By Jumping from (Other sites)', 'By touching electric wires',\n",
              "       'By Machine', 'By Fire/Self Immolation',\n",
              "       'By Jumping off Moving Vehicles/Trains',\n",
              "       'By Other means (please specify)', 'By Self Infliction of injury',\n",
              "       'By Over Alcoholism', 'By Consuming Other Poison',\n",
              "       'By coming under running vehicles/trains',\n",
              "       'By Overdose of sleeping pills', 'By Jumping from (Building)',\n",
              "       'By Drowning', 'By Fire-Arms', 'Retired Person', 'Unemployed',\n",
              "       'Public Sector Undertaking', 'Service (Private)', 'House Wife',\n",
              "       'Self-employed (Business activity)', 'Professional Activity',\n",
              "       'Student', 'Others (Please Specify)',\n",
              "       'Farming/Agriculture Activity', 'Service (Government)', 'Married',\n",
              "       'Seperated', 'Widowed/Widower', 'Divorcee', 'Never Married',\n",
              "       'Bankruptcy or Sudden change in Economic Status',\n",
              "       'Not having Children (Barrenness/Impotency', 'By Other means'],\n",
              "      dtype=object)"
            ]
          },
          "metadata": {},
          "execution_count": 15
        }
      ]
    },
    {
      "cell_type": "code",
      "metadata": {
        "colab": {
          "base_uri": "https://localhost:8080/"
        },
        "id": "UxC2moKBhd_T",
        "outputId": "4e58c037-d180-4a94-ad63-2c7a4829e02a"
      },
      "source": [
        "df['Year'].unique()"
      ],
      "execution_count": 16,
      "outputs": [
        {
          "output_type": "execute_result",
          "data": {
            "text/plain": [
              "array([2001, 2002, 2003, 2004, 2005, 2006, 2007, 2008, 2009, 2010, 2011,\n",
              "       2012])"
            ]
          },
          "metadata": {},
          "execution_count": 16
        }
      ]
    },
    {
      "cell_type": "code",
      "metadata": {
        "colab": {
          "base_uri": "https://localhost:8080/",
          "height": 423
        },
        "id": "KWtvbXbygwWz",
        "outputId": "35a836f4-3d6a-4995-b630-44b464275bde"
      },
      "source": [
        "df[df['Type_code']=='Education_Status']"
      ],
      "execution_count": 17,
      "outputs": [
        {
          "output_type": "execute_result",
          "data": {
            "text/html": [
              "<div>\n",
              "<style scoped>\n",
              "    .dataframe tbody tr th:only-of-type {\n",
              "        vertical-align: middle;\n",
              "    }\n",
              "\n",
              "    .dataframe tbody tr th {\n",
              "        vertical-align: top;\n",
              "    }\n",
              "\n",
              "    .dataframe thead th {\n",
              "        text-align: right;\n",
              "    }\n",
              "</style>\n",
              "<table border=\"1\" class=\"dataframe\">\n",
              "  <thead>\n",
              "    <tr style=\"text-align: right;\">\n",
              "      <th></th>\n",
              "      <th>State</th>\n",
              "      <th>Year</th>\n",
              "      <th>Type_code</th>\n",
              "      <th>Type</th>\n",
              "      <th>Gender</th>\n",
              "      <th>Age_group</th>\n",
              "      <th>Total</th>\n",
              "    </tr>\n",
              "  </thead>\n",
              "  <tbody>\n",
              "    <tr>\n",
              "      <th>260</th>\n",
              "      <td>A &amp; N Islands</td>\n",
              "      <td>2001</td>\n",
              "      <td>Education_Status</td>\n",
              "      <td>Diploma</td>\n",
              "      <td>Female</td>\n",
              "      <td>0-100+</td>\n",
              "      <td>0</td>\n",
              "    </tr>\n",
              "    <tr>\n",
              "      <th>261</th>\n",
              "      <td>A &amp; N Islands</td>\n",
              "      <td>2001</td>\n",
              "      <td>Education_Status</td>\n",
              "      <td>No Education</td>\n",
              "      <td>Female</td>\n",
              "      <td>0-100+</td>\n",
              "      <td>4</td>\n",
              "    </tr>\n",
              "    <tr>\n",
              "      <th>262</th>\n",
              "      <td>A &amp; N Islands</td>\n",
              "      <td>2001</td>\n",
              "      <td>Education_Status</td>\n",
              "      <td>Post Graduate and Above</td>\n",
              "      <td>Female</td>\n",
              "      <td>0-100+</td>\n",
              "      <td>0</td>\n",
              "    </tr>\n",
              "    <tr>\n",
              "      <th>263</th>\n",
              "      <td>A &amp; N Islands</td>\n",
              "      <td>2001</td>\n",
              "      <td>Education_Status</td>\n",
              "      <td>Middle</td>\n",
              "      <td>Female</td>\n",
              "      <td>0-100+</td>\n",
              "      <td>33</td>\n",
              "    </tr>\n",
              "    <tr>\n",
              "      <th>264</th>\n",
              "      <td>A &amp; N Islands</td>\n",
              "      <td>2001</td>\n",
              "      <td>Education_Status</td>\n",
              "      <td>Graduate</td>\n",
              "      <td>Female</td>\n",
              "      <td>0-100+</td>\n",
              "      <td>0</td>\n",
              "    </tr>\n",
              "    <tr>\n",
              "      <th>...</th>\n",
              "      <td>...</td>\n",
              "      <td>...</td>\n",
              "      <td>...</td>\n",
              "      <td>...</td>\n",
              "      <td>...</td>\n",
              "      <td>...</td>\n",
              "      <td>...</td>\n",
              "    </tr>\n",
              "    <tr>\n",
              "      <th>237234</th>\n",
              "      <td>West Bengal</td>\n",
              "      <td>2012</td>\n",
              "      <td>Education_Status</td>\n",
              "      <td>Primary</td>\n",
              "      <td>Male</td>\n",
              "      <td>0-100+</td>\n",
              "      <td>2983</td>\n",
              "    </tr>\n",
              "    <tr>\n",
              "      <th>237235</th>\n",
              "      <td>West Bengal</td>\n",
              "      <td>2012</td>\n",
              "      <td>Education_Status</td>\n",
              "      <td>No Education</td>\n",
              "      <td>Male</td>\n",
              "      <td>0-100+</td>\n",
              "      <td>1096</td>\n",
              "    </tr>\n",
              "    <tr>\n",
              "      <th>237236</th>\n",
              "      <td>West Bengal</td>\n",
              "      <td>2012</td>\n",
              "      <td>Education_Status</td>\n",
              "      <td>Middle</td>\n",
              "      <td>Male</td>\n",
              "      <td>0-100+</td>\n",
              "      <td>2467</td>\n",
              "    </tr>\n",
              "    <tr>\n",
              "      <th>237237</th>\n",
              "      <td>West Bengal</td>\n",
              "      <td>2012</td>\n",
              "      <td>Education_Status</td>\n",
              "      <td>Graduate</td>\n",
              "      <td>Male</td>\n",
              "      <td>0-100+</td>\n",
              "      <td>242</td>\n",
              "    </tr>\n",
              "    <tr>\n",
              "      <th>237238</th>\n",
              "      <td>West Bengal</td>\n",
              "      <td>2012</td>\n",
              "      <td>Education_Status</td>\n",
              "      <td>Matriculate/Secondary</td>\n",
              "      <td>Male</td>\n",
              "      <td>0-100+</td>\n",
              "      <td>1260</td>\n",
              "    </tr>\n",
              "  </tbody>\n",
              "</table>\n",
              "<p>7296 rows × 7 columns</p>\n",
              "</div>"
            ],
            "text/plain": [
              "                State  Year         Type_code  ...  Gender Age_group Total\n",
              "260     A & N Islands  2001  Education_Status  ...  Female    0-100+     0\n",
              "261     A & N Islands  2001  Education_Status  ...  Female    0-100+     4\n",
              "262     A & N Islands  2001  Education_Status  ...  Female    0-100+     0\n",
              "263     A & N Islands  2001  Education_Status  ...  Female    0-100+    33\n",
              "264     A & N Islands  2001  Education_Status  ...  Female    0-100+     0\n",
              "...               ...   ...               ...  ...     ...       ...   ...\n",
              "237234    West Bengal  2012  Education_Status  ...    Male    0-100+  2983\n",
              "237235    West Bengal  2012  Education_Status  ...    Male    0-100+  1096\n",
              "237236    West Bengal  2012  Education_Status  ...    Male    0-100+  2467\n",
              "237237    West Bengal  2012  Education_Status  ...    Male    0-100+   242\n",
              "237238    West Bengal  2012  Education_Status  ...    Male    0-100+  1260\n",
              "\n",
              "[7296 rows x 7 columns]"
            ]
          },
          "metadata": {},
          "execution_count": 17
        }
      ]
    },
    {
      "cell_type": "code",
      "metadata": {
        "colab": {
          "base_uri": "https://localhost:8080/",
          "height": 509
        },
        "id": "Bp3xEzo3ij7C",
        "outputId": "b5c97ac8-261b-433a-aba1-e442b187157b"
      },
      "source": [
        "# Total No of students who commited suicide in different states due to education\n",
        "def studentSuicide():\n",
        "  data={}\n",
        "  for i in range(0,len(df)):\n",
        "    if df['Type'][i]=='Student' and df['Type_code'][i]==\"Professional_Profile\":\n",
        "      if df['State'][i] in data.keys():\n",
        "        data[df['State'][i]]=data[df['State'][i]]+df['Total'][i]\n",
        "      else:\n",
        "        data[df['State'][i]]=df['Total'][i]\n",
        "  return data\n",
        "\n",
        "data=studentSuicide()\n",
        "labels=list(data.keys())\n",
        "data=list(data.values())\n",
        "plt.figure(figsize=(14,7))\n",
        "plt.pie(data,labels=labels,rotatelabels=92)\n",
        "plt.show()"
      ],
      "execution_count": 18,
      "outputs": [
        {
          "output_type": "display_data",
          "data": {
            "image/png": "[encoded data removed]",
            "text/plain": [
              "<Figure size 1008x504 with 1 Axes>"
            ]
          },
          "metadata": {}
        }
      ]
    },
    {
      "cell_type": "code",
      "metadata": {
        "colab": {
          "base_uri": "https://localhost:8080/",
          "height": 513
        },
        "id": "mMP5mT_upuHD",
        "outputId": "6456b946-52da-412c-a8a5-3bd801d73c2d"
      },
      "source": [
        "# Total No of students who commited suicide in different states due to drugs\n",
        "def studentSuicide():\n",
        "  data={}\n",
        "  for i in range(0,len(df)):\n",
        "    if df['Type'][i]==\"Drug Abuse/Addiction\":\n",
        "      if df['State'][i] in data.keys():\n",
        "        data[df['State'][i]]=data[df['State'][i]]+df['Total'][i]\n",
        "      else:\n",
        "        data[df['State'][i]]=df['Total'][i]\n",
        "  return data\n",
        "\n",
        "data=studentSuicide()\n",
        "data=pd.Series(data)\n",
        "plt.figure(figsize=(14,7))\n",
        "data.plot(kind='bar')\n",
        "plt.show()"
      ],
      "execution_count": 19,
      "outputs": [
        {
          "output_type": "display_data",
          "data": {
            "image/png": "[encoded data removed]",
            "text/plain": [
              "<Figure size 1008x504 with 1 Axes>"
            ]
          },
          "metadata": {
            "needs_background": "light"
          }
        }
      ]
    },
    {
      "cell_type": "code",
      "metadata": {
        "colab": {
          "base_uri": "https://localhost:8080/",
          "height": 513
        },
        "id": "k9DQoVQEs0qP",
        "outputId": "225a213d-de1d-4c1d-ff75-56931e746736"
      },
      "source": [
        "# Total No of students who commited suicide in different states dowry dispute\n",
        "def studentSuicide():\n",
        "  data={}\n",
        "  for i in range(0,len(df)):\n",
        "    if df['Type'][i]==\"Dowry Dispute\":\n",
        "      if df['State'][i] in data.keys():\n",
        "        data[df['State'][i]]=data[df['State'][i]]+df['Total'][i]\n",
        "      else:\n",
        "        data[df['State'][i]]=df['Total'][i]\n",
        "  return data\n",
        "\n",
        "data=studentSuicide()\n",
        "data=pd.Series(data)\n",
        "plt.figure(figsize=(14,7))\n",
        "data.plot(kind='bar')\n",
        "plt.show()"
      ],
      "execution_count": 20,
      "outputs": [
        {
          "output_type": "display_data",
          "data": {
            "image/png": "[encoded data removed]",
            "text/plain": [
              "<Figure size 1008x504 with 1 Axes>"
            ]
          },
          "metadata": {
            "needs_background": "light"
          }
        }
      ]
    },
    {
      "cell_type": "code",
      "metadata": {
        "colab": {
          "base_uri": "https://localhost:8080/"
        },
        "id": "tfJL1Cs7gwW5",
        "outputId": "d3ba146e-3772-45ba-b00c-1c549adf1050"
      },
      "source": [
        "#Checking total null values\n",
        "df.isnull().sum()"
      ],
      "execution_count": 21,
      "outputs": [
        {
          "output_type": "execute_result",
          "data": {
            "text/plain": [
              "State        0\n",
              "Year         0\n",
              "Type_code    0\n",
              "Type         0\n",
              "Gender       0\n",
              "Age_group    0\n",
              "Total        0\n",
              "dtype: int64"
            ]
          },
          "metadata": {},
          "execution_count": 21
        }
      ]
    },
    {
      "cell_type": "code",
      "metadata": {
        "colab": {
          "base_uri": "https://localhost:8080/",
          "height": 423
        },
        "id": "2GZu0ks5gwW6",
        "outputId": "dfdf8eea-d470-4009-c996-655579f130f0"
      },
      "source": [
        "# Rows where total number of suicides commited is 0\n",
        "df[df['Total']==0]"
      ],
      "execution_count": 22,
      "outputs": [
        {
          "output_type": "execute_result",
          "data": {
            "text/html": [
              "<div>\n",
              "<style scoped>\n",
              "    .dataframe tbody tr th:only-of-type {\n",
              "        vertical-align: middle;\n",
              "    }\n",
              "\n",
              "    .dataframe tbody tr th {\n",
              "        vertical-align: top;\n",
              "    }\n",
              "\n",
              "    .dataframe thead th {\n",
              "        text-align: right;\n",
              "    }\n",
              "</style>\n",
              "<table border=\"1\" class=\"dataframe\">\n",
              "  <thead>\n",
              "    <tr style=\"text-align: right;\">\n",
              "      <th></th>\n",
              "      <th>State</th>\n",
              "      <th>Year</th>\n",
              "      <th>Type_code</th>\n",
              "      <th>Type</th>\n",
              "      <th>Gender</th>\n",
              "      <th>Age_group</th>\n",
              "      <th>Total</th>\n",
              "    </tr>\n",
              "  </thead>\n",
              "  <tbody>\n",
              "    <tr>\n",
              "      <th>0</th>\n",
              "      <td>A &amp; N Islands</td>\n",
              "      <td>2001</td>\n",
              "      <td>Causes</td>\n",
              "      <td>Illness (Aids/STD)</td>\n",
              "      <td>Female</td>\n",
              "      <td>0-14</td>\n",
              "      <td>0</td>\n",
              "    </tr>\n",
              "    <tr>\n",
              "      <th>1</th>\n",
              "      <td>A &amp; N Islands</td>\n",
              "      <td>2001</td>\n",
              "      <td>Causes</td>\n",
              "      <td>Bankruptcy or Sudden change in Economic</td>\n",
              "      <td>Female</td>\n",
              "      <td>0-14</td>\n",
              "      <td>0</td>\n",
              "    </tr>\n",
              "    <tr>\n",
              "      <th>2</th>\n",
              "      <td>A &amp; N Islands</td>\n",
              "      <td>2001</td>\n",
              "      <td>Causes</td>\n",
              "      <td>Cancellation/Non-Settlement of Marriage</td>\n",
              "      <td>Female</td>\n",
              "      <td>0-14</td>\n",
              "      <td>0</td>\n",
              "    </tr>\n",
              "    <tr>\n",
              "      <th>3</th>\n",
              "      <td>A &amp; N Islands</td>\n",
              "      <td>2001</td>\n",
              "      <td>Causes</td>\n",
              "      <td>Physical Abuse (Rape/Incest Etc.)</td>\n",
              "      <td>Female</td>\n",
              "      <td>0-14</td>\n",
              "      <td>0</td>\n",
              "    </tr>\n",
              "    <tr>\n",
              "      <th>4</th>\n",
              "      <td>A &amp; N Islands</td>\n",
              "      <td>2001</td>\n",
              "      <td>Causes</td>\n",
              "      <td>Dowry Dispute</td>\n",
              "      <td>Female</td>\n",
              "      <td>0-14</td>\n",
              "      <td>0</td>\n",
              "    </tr>\n",
              "    <tr>\n",
              "      <th>...</th>\n",
              "      <td>...</td>\n",
              "      <td>...</td>\n",
              "      <td>...</td>\n",
              "      <td>...</td>\n",
              "      <td>...</td>\n",
              "      <td>...</td>\n",
              "      <td>...</td>\n",
              "    </tr>\n",
              "    <tr>\n",
              "      <th>237504</th>\n",
              "      <td>West Bengal</td>\n",
              "      <td>2012</td>\n",
              "      <td>Professional_Profile</td>\n",
              "      <td>Farming/Agriculture Activity</td>\n",
              "      <td>Male</td>\n",
              "      <td>60+</td>\n",
              "      <td>0</td>\n",
              "    </tr>\n",
              "    <tr>\n",
              "      <th>237505</th>\n",
              "      <td>West Bengal</td>\n",
              "      <td>2012</td>\n",
              "      <td>Professional_Profile</td>\n",
              "      <td>Student</td>\n",
              "      <td>Male</td>\n",
              "      <td>60+</td>\n",
              "      <td>0</td>\n",
              "    </tr>\n",
              "    <tr>\n",
              "      <th>237506</th>\n",
              "      <td>West Bengal</td>\n",
              "      <td>2012</td>\n",
              "      <td>Professional_Profile</td>\n",
              "      <td>Service (Private)</td>\n",
              "      <td>Male</td>\n",
              "      <td>60+</td>\n",
              "      <td>0</td>\n",
              "    </tr>\n",
              "    <tr>\n",
              "      <th>237507</th>\n",
              "      <td>West Bengal</td>\n",
              "      <td>2012</td>\n",
              "      <td>Professional_Profile</td>\n",
              "      <td>Professional Activity</td>\n",
              "      <td>Male</td>\n",
              "      <td>60+</td>\n",
              "      <td>0</td>\n",
              "    </tr>\n",
              "    <tr>\n",
              "      <th>237508</th>\n",
              "      <td>West Bengal</td>\n",
              "      <td>2012</td>\n",
              "      <td>Professional_Profile</td>\n",
              "      <td>Service (Government)</td>\n",
              "      <td>Male</td>\n",
              "      <td>60+</td>\n",
              "      <td>0</td>\n",
              "    </tr>\n",
              "  </tbody>\n",
              "</table>\n",
              "<p>135481 rows × 7 columns</p>\n",
              "</div>"
            ],
            "text/plain": [
              "                State  Year             Type_code  ...  Gender Age_group Total\n",
              "0       A & N Islands  2001                Causes  ...  Female      0-14     0\n",
              "1       A & N Islands  2001                Causes  ...  Female      0-14     0\n",
              "2       A & N Islands  2001                Causes  ...  Female      0-14     0\n",
              "3       A & N Islands  2001                Causes  ...  Female      0-14     0\n",
              "4       A & N Islands  2001                Causes  ...  Female      0-14     0\n",
              "...               ...   ...                   ...  ...     ...       ...   ...\n",
              "237504    West Bengal  2012  Professional_Profile  ...    Male       60+     0\n",
              "237505    West Bengal  2012  Professional_Profile  ...    Male       60+     0\n",
              "237506    West Bengal  2012  Professional_Profile  ...    Male       60+     0\n",
              "237507    West Bengal  2012  Professional_Profile  ...    Male       60+     0\n",
              "237508    West Bengal  2012  Professional_Profile  ...    Male       60+     0\n",
              "\n",
              "[135481 rows x 7 columns]"
            ]
          },
          "metadata": {},
          "execution_count": 22
        }
      ]
    },
    {
      "cell_type": "code",
      "metadata": {
        "id": "-JtJigsGgwW9"
      },
      "source": [
        "# Replacing the 0 with nan\n",
        "df['Total']=df['Total'].replace(0,np.NaN)"
      ],
      "execution_count": 23,
      "outputs": []
    },
    {
      "cell_type": "code",
      "metadata": {
        "colab": {
          "base_uri": "https://localhost:8080/"
        },
        "id": "maviXmF9gwW9",
        "outputId": "60c191c7-9880-433d-ae07-42f406fe7124"
      },
      "source": [
        "df['Total']"
      ],
      "execution_count": 24,
      "outputs": [
        {
          "output_type": "execute_result",
          "data": {
            "text/plain": [
              "0            NaN\n",
              "1            NaN\n",
              "2            NaN\n",
              "3            NaN\n",
              "4            NaN\n",
              "           ...  \n",
              "237514     149.0\n",
              "237515     233.0\n",
              "237516    5451.0\n",
              "237517     189.0\n",
              "237518    2658.0\n",
              "Name: Total, Length: 237519, dtype: float64"
            ]
          },
          "metadata": {},
          "execution_count": 24
        }
      ]
    },
    {
      "cell_type": "code",
      "metadata": {
        "colab": {
          "base_uri": "https://localhost:8080/"
        },
        "id": "J4Uom2lRgwW-",
        "outputId": "c47affc7-1190-4776-d315-28e2e376a357"
      },
      "source": [
        "# Now again checking the number of null values\n",
        "df.isnull().sum()"
      ],
      "execution_count": 25,
      "outputs": [
        {
          "output_type": "execute_result",
          "data": {
            "text/plain": [
              "State             0\n",
              "Year              0\n",
              "Type_code         0\n",
              "Type              0\n",
              "Gender            0\n",
              "Age_group         0\n",
              "Total        135481\n",
              "dtype: int64"
            ]
          },
          "metadata": {},
          "execution_count": 25
        }
      ]
    },
    {
      "cell_type": "code",
      "metadata": {
        "id": "7EVW4YVvgwW_"
      },
      "source": [
        "# Dropping the nnan values\n",
        "# We are dropping the values where the total suicide is 0, because we don't want our model\n",
        "# to be biased towards 0 because most of the values might be zero, we want our model to predict \n",
        "# a definite number so we will be on the safer side and can take certain actions\n",
        "\n",
        "df.dropna(axis=0,inplace=True)"
      ],
      "execution_count": 26,
      "outputs": []
    },
    {
      "cell_type": "code",
      "metadata": {
        "id": "eXUjVGXLuprR"
      },
      "source": [
        "# Resetting the index\n",
        "df=df.reset_index().drop(columns='index')"
      ],
      "execution_count": 27,
      "outputs": []
    },
    {
      "cell_type": "code",
      "metadata": {
        "colab": {
          "base_uri": "https://localhost:8080/"
        },
        "id": "wGTRDFlbgwW_",
        "outputId": "cb5425b9-ecf5-42ab-a7aa-d03503b3b1bd"
      },
      "source": [
        "#New shape\n",
        "df.shape"
      ],
      "execution_count": 28,
      "outputs": [
        {
          "output_type": "execute_result",
          "data": {
            "text/plain": [
              "(102038, 7)"
            ]
          },
          "metadata": {},
          "execution_count": 28
        }
      ]
    },
    {
      "cell_type": "code",
      "metadata": {
        "colab": {
          "base_uri": "https://localhost:8080/",
          "height": 300
        },
        "id": "rR4R5V3zgwXA",
        "outputId": "7d0b4715-62c0-4ee4-ec9a-efe11051d01c"
      },
      "source": [
        "df.describe()"
      ],
      "execution_count": 29,
      "outputs": [
        {
          "output_type": "execute_result",
          "data": {
            "text/html": [
              "<div>\n",
              "<style scoped>\n",
              "    .dataframe tbody tr th:only-of-type {\n",
              "        vertical-align: middle;\n",
              "    }\n",
              "\n",
              "    .dataframe tbody tr th {\n",
              "        vertical-align: top;\n",
              "    }\n",
              "\n",
              "    .dataframe thead th {\n",
              "        text-align: right;\n",
              "    }\n",
              "</style>\n",
              "<table border=\"1\" class=\"dataframe\">\n",
              "  <thead>\n",
              "    <tr style=\"text-align: right;\">\n",
              "      <th></th>\n",
              "      <th>Year</th>\n",
              "      <th>Total</th>\n",
              "    </tr>\n",
              "  </thead>\n",
              "  <tbody>\n",
              "    <tr>\n",
              "      <th>count</th>\n",
              "      <td>102038.000000</td>\n",
              "      <td>102038.000000</td>\n",
              "    </tr>\n",
              "    <tr>\n",
              "      <th>mean</th>\n",
              "      <td>2006.546600</td>\n",
              "      <td>128.106529</td>\n",
              "    </tr>\n",
              "    <tr>\n",
              "      <th>std</th>\n",
              "      <td>3.456744</td>\n",
              "      <td>1205.621940</td>\n",
              "    </tr>\n",
              "    <tr>\n",
              "      <th>min</th>\n",
              "      <td>2001.000000</td>\n",
              "      <td>1.000000</td>\n",
              "    </tr>\n",
              "    <tr>\n",
              "      <th>25%</th>\n",
              "      <td>2004.000000</td>\n",
              "      <td>2.000000</td>\n",
              "    </tr>\n",
              "    <tr>\n",
              "      <th>50%</th>\n",
              "      <td>2007.000000</td>\n",
              "      <td>9.000000</td>\n",
              "    </tr>\n",
              "    <tr>\n",
              "      <th>75%</th>\n",
              "      <td>2010.000000</td>\n",
              "      <td>39.000000</td>\n",
              "    </tr>\n",
              "    <tr>\n",
              "      <th>max</th>\n",
              "      <td>2012.000000</td>\n",
              "      <td>63343.000000</td>\n",
              "    </tr>\n",
              "  </tbody>\n",
              "</table>\n",
              "</div>"
            ],
            "text/plain": [
              "                Year          Total\n",
              "count  102038.000000  102038.000000\n",
              "mean     2006.546600     128.106529\n",
              "std         3.456744    1205.621940\n",
              "min      2001.000000       1.000000\n",
              "25%      2004.000000       2.000000\n",
              "50%      2007.000000       9.000000\n",
              "75%      2010.000000      39.000000\n",
              "max      2012.000000   63343.000000"
            ]
          },
          "metadata": {},
          "execution_count": 29
        }
      ]
    },
    {
      "cell_type": "code",
      "metadata": {
        "colab": {
          "base_uri": "https://localhost:8080/",
          "height": 80
        },
        "id": "YQryLUCugwXB",
        "outputId": "8270683d-384f-48fe-b126-d08cfb1186ad"
      },
      "source": [
        "# Checing the max value of total\n",
        "# Since presence of these rows might harm the accuracy of models so we will drop them\n",
        "# They just imply the total number of suicides that happened in the country due to various type_codes\n",
        "df[df['Total']==df['Total'].max()]"
      ],
      "execution_count": 30,
      "outputs": [
        {
          "output_type": "execute_result",
          "data": {
            "text/html": [
              "<div>\n",
              "<style scoped>\n",
              "    .dataframe tbody tr th:only-of-type {\n",
              "        vertical-align: middle;\n",
              "    }\n",
              "\n",
              "    .dataframe tbody tr th {\n",
              "        vertical-align: top;\n",
              "    }\n",
              "\n",
              "    .dataframe thead th {\n",
              "        text-align: right;\n",
              "    }\n",
              "</style>\n",
              "<table border=\"1\" class=\"dataframe\">\n",
              "  <thead>\n",
              "    <tr style=\"text-align: right;\">\n",
              "      <th></th>\n",
              "      <th>State</th>\n",
              "      <th>Year</th>\n",
              "      <th>Type_code</th>\n",
              "      <th>Type</th>\n",
              "      <th>Gender</th>\n",
              "      <th>Age_group</th>\n",
              "      <th>Total</th>\n",
              "    </tr>\n",
              "  </thead>\n",
              "  <tbody>\n",
              "    <tr>\n",
              "      <th>86974</th>\n",
              "      <td>Total (All India)</td>\n",
              "      <td>2012</td>\n",
              "      <td>Social_Status</td>\n",
              "      <td>Married</td>\n",
              "      <td>Male</td>\n",
              "      <td>0-100+</td>\n",
              "      <td>63343.0</td>\n",
              "    </tr>\n",
              "  </tbody>\n",
              "</table>\n",
              "</div>"
            ],
            "text/plain": [
              "                   State  Year      Type_code  ... Gender Age_group    Total\n",
              "86974  Total (All India)  2012  Social_Status  ...   Male    0-100+  63343.0\n",
              "\n",
              "[1 rows x 7 columns]"
            ]
          },
          "metadata": {},
          "execution_count": 30
        }
      ]
    },
    {
      "cell_type": "code",
      "metadata": {
        "colab": {
          "base_uri": "https://localhost:8080/",
          "height": 423
        },
        "id": "i98uL79_gwXC",
        "outputId": "c11612ad-f2fc-4ba2-e247-c3576da7a364"
      },
      "source": [
        "df[df['State']=='Total (All India)']"
      ],
      "execution_count": 31,
      "outputs": [
        {
          "output_type": "execute_result",
          "data": {
            "text/html": [
              "<div>\n",
              "<style scoped>\n",
              "    .dataframe tbody tr th:only-of-type {\n",
              "        vertical-align: middle;\n",
              "    }\n",
              "\n",
              "    .dataframe tbody tr th {\n",
              "        vertical-align: top;\n",
              "    }\n",
              "\n",
              "    .dataframe thead th {\n",
              "        text-align: right;\n",
              "    }\n",
              "</style>\n",
              "<table border=\"1\" class=\"dataframe\">\n",
              "  <thead>\n",
              "    <tr style=\"text-align: right;\">\n",
              "      <th></th>\n",
              "      <th>State</th>\n",
              "      <th>Year</th>\n",
              "      <th>Type_code</th>\n",
              "      <th>Type</th>\n",
              "      <th>Gender</th>\n",
              "      <th>Age_group</th>\n",
              "      <th>Total</th>\n",
              "    </tr>\n",
              "  </thead>\n",
              "  <tbody>\n",
              "    <tr>\n",
              "      <th>86667</th>\n",
              "      <td>Total (All India)</td>\n",
              "      <td>2001</td>\n",
              "      <td>Education_Status</td>\n",
              "      <td>Hr. Secondary/Intermediate/Pre-Universit</td>\n",
              "      <td>Female</td>\n",
              "      <td>0-100+</td>\n",
              "      <td>2391.0</td>\n",
              "    </tr>\n",
              "    <tr>\n",
              "      <th>86668</th>\n",
              "      <td>Total (All India)</td>\n",
              "      <td>2001</td>\n",
              "      <td>Education_Status</td>\n",
              "      <td>Diploma</td>\n",
              "      <td>Female</td>\n",
              "      <td>0-100+</td>\n",
              "      <td>294.0</td>\n",
              "    </tr>\n",
              "    <tr>\n",
              "      <th>86669</th>\n",
              "      <td>Total (All India)</td>\n",
              "      <td>2001</td>\n",
              "      <td>Education_Status</td>\n",
              "      <td>Matriculate/Secondary</td>\n",
              "      <td>Female</td>\n",
              "      <td>0-100+</td>\n",
              "      <td>5486.0</td>\n",
              "    </tr>\n",
              "    <tr>\n",
              "      <th>86670</th>\n",
              "      <td>Total (All India)</td>\n",
              "      <td>2001</td>\n",
              "      <td>Education_Status</td>\n",
              "      <td>No Education</td>\n",
              "      <td>Female</td>\n",
              "      <td>0-100+</td>\n",
              "      <td>12817.0</td>\n",
              "    </tr>\n",
              "    <tr>\n",
              "      <th>86671</th>\n",
              "      <td>Total (All India)</td>\n",
              "      <td>2001</td>\n",
              "      <td>Education_Status</td>\n",
              "      <td>Post Graduate and Above</td>\n",
              "      <td>Female</td>\n",
              "      <td>0-100+</td>\n",
              "      <td>192.0</td>\n",
              "    </tr>\n",
              "    <tr>\n",
              "      <th>...</th>\n",
              "      <td>...</td>\n",
              "      <td>...</td>\n",
              "      <td>...</td>\n",
              "      <td>...</td>\n",
              "      <td>...</td>\n",
              "      <td>...</td>\n",
              "      <td>...</td>\n",
              "    </tr>\n",
              "    <tr>\n",
              "      <th>86974</th>\n",
              "      <td>Total (All India)</td>\n",
              "      <td>2012</td>\n",
              "      <td>Social_Status</td>\n",
              "      <td>Married</td>\n",
              "      <td>Male</td>\n",
              "      <td>0-100+</td>\n",
              "      <td>63343.0</td>\n",
              "    </tr>\n",
              "    <tr>\n",
              "      <th>86975</th>\n",
              "      <td>Total (All India)</td>\n",
              "      <td>2012</td>\n",
              "      <td>Social_Status</td>\n",
              "      <td>Never Married</td>\n",
              "      <td>Male</td>\n",
              "      <td>0-100+</td>\n",
              "      <td>19727.0</td>\n",
              "    </tr>\n",
              "    <tr>\n",
              "      <th>86976</th>\n",
              "      <td>Total (All India)</td>\n",
              "      <td>2012</td>\n",
              "      <td>Social_Status</td>\n",
              "      <td>Divorcee</td>\n",
              "      <td>Male</td>\n",
              "      <td>0-100+</td>\n",
              "      <td>682.0</td>\n",
              "    </tr>\n",
              "    <tr>\n",
              "      <th>86977</th>\n",
              "      <td>Total (All India)</td>\n",
              "      <td>2012</td>\n",
              "      <td>Social_Status</td>\n",
              "      <td>Seperated</td>\n",
              "      <td>Male</td>\n",
              "      <td>0-100+</td>\n",
              "      <td>2043.0</td>\n",
              "    </tr>\n",
              "    <tr>\n",
              "      <th>86978</th>\n",
              "      <td>Total (All India)</td>\n",
              "      <td>2012</td>\n",
              "      <td>Social_Status</td>\n",
              "      <td>Widowed/Widower</td>\n",
              "      <td>Male</td>\n",
              "      <td>0-100+</td>\n",
              "      <td>2658.0</td>\n",
              "    </tr>\n",
              "  </tbody>\n",
              "</table>\n",
              "<p>312 rows × 7 columns</p>\n",
              "</div>"
            ],
            "text/plain": [
              "                   State  Year         Type_code  ...  Gender Age_group    Total\n",
              "86667  Total (All India)  2001  Education_Status  ...  Female    0-100+   2391.0\n",
              "86668  Total (All India)  2001  Education_Status  ...  Female    0-100+    294.0\n",
              "86669  Total (All India)  2001  Education_Status  ...  Female    0-100+   5486.0\n",
              "86670  Total (All India)  2001  Education_Status  ...  Female    0-100+  12817.0\n",
              "86671  Total (All India)  2001  Education_Status  ...  Female    0-100+    192.0\n",
              "...                  ...   ...               ...  ...     ...       ...      ...\n",
              "86974  Total (All India)  2012     Social_Status  ...    Male    0-100+  63343.0\n",
              "86975  Total (All India)  2012     Social_Status  ...    Male    0-100+  19727.0\n",
              "86976  Total (All India)  2012     Social_Status  ...    Male    0-100+    682.0\n",
              "86977  Total (All India)  2012     Social_Status  ...    Male    0-100+   2043.0\n",
              "86978  Total (All India)  2012     Social_Status  ...    Male    0-100+   2658.0\n",
              "\n",
              "[312 rows x 7 columns]"
            ]
          },
          "metadata": {},
          "execution_count": 31
        }
      ]
    },
    {
      "cell_type": "code",
      "metadata": {
        "colab": {
          "base_uri": "https://localhost:8080/",
          "height": 423
        },
        "id": "y57LEX8wgwXE",
        "outputId": "ca8ead4e-9f5e-4dd2-a1e7-5624c72ff71e"
      },
      "source": [
        "df[df['State']=='Total (States)']"
      ],
      "execution_count": 32,
      "outputs": [
        {
          "output_type": "execute_result",
          "data": {
            "text/html": [
              "<div>\n",
              "<style scoped>\n",
              "    .dataframe tbody tr th:only-of-type {\n",
              "        vertical-align: middle;\n",
              "    }\n",
              "\n",
              "    .dataframe tbody tr th {\n",
              "        vertical-align: top;\n",
              "    }\n",
              "\n",
              "    .dataframe thead th {\n",
              "        text-align: right;\n",
              "    }\n",
              "</style>\n",
              "<table border=\"1\" class=\"dataframe\">\n",
              "  <thead>\n",
              "    <tr style=\"text-align: right;\">\n",
              "      <th></th>\n",
              "      <th>State</th>\n",
              "      <th>Year</th>\n",
              "      <th>Type_code</th>\n",
              "      <th>Type</th>\n",
              "      <th>Gender</th>\n",
              "      <th>Age_group</th>\n",
              "      <th>Total</th>\n",
              "    </tr>\n",
              "  </thead>\n",
              "  <tbody>\n",
              "    <tr>\n",
              "      <th>86979</th>\n",
              "      <td>Total (States)</td>\n",
              "      <td>2001</td>\n",
              "      <td>Education_Status</td>\n",
              "      <td>Primary</td>\n",
              "      <td>Female</td>\n",
              "      <td>0-100+</td>\n",
              "      <td>11118.0</td>\n",
              "    </tr>\n",
              "    <tr>\n",
              "      <th>86980</th>\n",
              "      <td>Total (States)</td>\n",
              "      <td>2001</td>\n",
              "      <td>Education_Status</td>\n",
              "      <td>Hr. Secondary/Intermediate/Pre-Universit</td>\n",
              "      <td>Female</td>\n",
              "      <td>0-100+</td>\n",
              "      <td>2315.0</td>\n",
              "    </tr>\n",
              "    <tr>\n",
              "      <th>86981</th>\n",
              "      <td>Total (States)</td>\n",
              "      <td>2001</td>\n",
              "      <td>Education_Status</td>\n",
              "      <td>Middle</td>\n",
              "      <td>Female</td>\n",
              "      <td>0-100+</td>\n",
              "      <td>8838.0</td>\n",
              "    </tr>\n",
              "    <tr>\n",
              "      <th>86982</th>\n",
              "      <td>Total (States)</td>\n",
              "      <td>2001</td>\n",
              "      <td>Education_Status</td>\n",
              "      <td>Matriculate/Secondary</td>\n",
              "      <td>Female</td>\n",
              "      <td>0-100+</td>\n",
              "      <td>5382.0</td>\n",
              "    </tr>\n",
              "    <tr>\n",
              "      <th>86983</th>\n",
              "      <td>Total (States)</td>\n",
              "      <td>2001</td>\n",
              "      <td>Education_Status</td>\n",
              "      <td>No Education</td>\n",
              "      <td>Female</td>\n",
              "      <td>0-100+</td>\n",
              "      <td>12669.0</td>\n",
              "    </tr>\n",
              "    <tr>\n",
              "      <th>...</th>\n",
              "      <td>...</td>\n",
              "      <td>...</td>\n",
              "      <td>...</td>\n",
              "      <td>...</td>\n",
              "      <td>...</td>\n",
              "      <td>...</td>\n",
              "      <td>...</td>\n",
              "    </tr>\n",
              "    <tr>\n",
              "      <th>87286</th>\n",
              "      <td>Total (States)</td>\n",
              "      <td>2012</td>\n",
              "      <td>Social_Status</td>\n",
              "      <td>Seperated</td>\n",
              "      <td>Male</td>\n",
              "      <td>0-100+</td>\n",
              "      <td>2001.0</td>\n",
              "    </tr>\n",
              "    <tr>\n",
              "      <th>87287</th>\n",
              "      <td>Total (States)</td>\n",
              "      <td>2012</td>\n",
              "      <td>Social_Status</td>\n",
              "      <td>Widowed/Widower</td>\n",
              "      <td>Male</td>\n",
              "      <td>0-100+</td>\n",
              "      <td>2651.0</td>\n",
              "    </tr>\n",
              "    <tr>\n",
              "      <th>87288</th>\n",
              "      <td>Total (States)</td>\n",
              "      <td>2012</td>\n",
              "      <td>Social_Status</td>\n",
              "      <td>Divorcee</td>\n",
              "      <td>Male</td>\n",
              "      <td>0-100+</td>\n",
              "      <td>680.0</td>\n",
              "    </tr>\n",
              "    <tr>\n",
              "      <th>87289</th>\n",
              "      <td>Total (States)</td>\n",
              "      <td>2012</td>\n",
              "      <td>Social_Status</td>\n",
              "      <td>Never Married</td>\n",
              "      <td>Male</td>\n",
              "      <td>0-100+</td>\n",
              "      <td>19158.0</td>\n",
              "    </tr>\n",
              "    <tr>\n",
              "      <th>87290</th>\n",
              "      <td>Total (States)</td>\n",
              "      <td>2012</td>\n",
              "      <td>Social_Status</td>\n",
              "      <td>Married</td>\n",
              "      <td>Male</td>\n",
              "      <td>0-100+</td>\n",
              "      <td>62123.0</td>\n",
              "    </tr>\n",
              "  </tbody>\n",
              "</table>\n",
              "<p>312 rows × 7 columns</p>\n",
              "</div>"
            ],
            "text/plain": [
              "                State  Year         Type_code  ...  Gender Age_group    Total\n",
              "86979  Total (States)  2001  Education_Status  ...  Female    0-100+  11118.0\n",
              "86980  Total (States)  2001  Education_Status  ...  Female    0-100+   2315.0\n",
              "86981  Total (States)  2001  Education_Status  ...  Female    0-100+   8838.0\n",
              "86982  Total (States)  2001  Education_Status  ...  Female    0-100+   5382.0\n",
              "86983  Total (States)  2001  Education_Status  ...  Female    0-100+  12669.0\n",
              "...               ...   ...               ...  ...     ...       ...      ...\n",
              "87286  Total (States)  2012     Social_Status  ...    Male    0-100+   2001.0\n",
              "87287  Total (States)  2012     Social_Status  ...    Male    0-100+   2651.0\n",
              "87288  Total (States)  2012     Social_Status  ...    Male    0-100+    680.0\n",
              "87289  Total (States)  2012     Social_Status  ...    Male    0-100+  19158.0\n",
              "87290  Total (States)  2012     Social_Status  ...    Male    0-100+  62123.0\n",
              "\n",
              "[312 rows x 7 columns]"
            ]
          },
          "metadata": {},
          "execution_count": 32
        }
      ]
    },
    {
      "cell_type": "code",
      "metadata": {
        "colab": {
          "base_uri": "https://localhost:8080/",
          "height": 423
        },
        "id": "sGiGkchtgwXF",
        "outputId": "59a93565-f96c-4df0-9f81-9b0b5bdaa96a"
      },
      "source": [
        "df[df['State']=='Total (Uts)']"
      ],
      "execution_count": 33,
      "outputs": [
        {
          "output_type": "execute_result",
          "data": {
            "text/html": [
              "<div>\n",
              "<style scoped>\n",
              "    .dataframe tbody tr th:only-of-type {\n",
              "        vertical-align: middle;\n",
              "    }\n",
              "\n",
              "    .dataframe tbody tr th {\n",
              "        vertical-align: top;\n",
              "    }\n",
              "\n",
              "    .dataframe thead th {\n",
              "        text-align: right;\n",
              "    }\n",
              "</style>\n",
              "<table border=\"1\" class=\"dataframe\">\n",
              "  <thead>\n",
              "    <tr style=\"text-align: right;\">\n",
              "      <th></th>\n",
              "      <th>State</th>\n",
              "      <th>Year</th>\n",
              "      <th>Type_code</th>\n",
              "      <th>Type</th>\n",
              "      <th>Gender</th>\n",
              "      <th>Age_group</th>\n",
              "      <th>Total</th>\n",
              "    </tr>\n",
              "  </thead>\n",
              "  <tbody>\n",
              "    <tr>\n",
              "      <th>87291</th>\n",
              "      <td>Total (Uts)</td>\n",
              "      <td>2001</td>\n",
              "      <td>Education_Status</td>\n",
              "      <td>No Education</td>\n",
              "      <td>Female</td>\n",
              "      <td>0-100+</td>\n",
              "      <td>148.0</td>\n",
              "    </tr>\n",
              "    <tr>\n",
              "      <th>87292</th>\n",
              "      <td>Total (Uts)</td>\n",
              "      <td>2001</td>\n",
              "      <td>Education_Status</td>\n",
              "      <td>Matriculate/Secondary</td>\n",
              "      <td>Female</td>\n",
              "      <td>0-100+</td>\n",
              "      <td>104.0</td>\n",
              "    </tr>\n",
              "    <tr>\n",
              "      <th>87293</th>\n",
              "      <td>Total (Uts)</td>\n",
              "      <td>2001</td>\n",
              "      <td>Education_Status</td>\n",
              "      <td>Hr. Secondary/Intermediate/Pre-Universit</td>\n",
              "      <td>Female</td>\n",
              "      <td>0-100+</td>\n",
              "      <td>76.0</td>\n",
              "    </tr>\n",
              "    <tr>\n",
              "      <th>87294</th>\n",
              "      <td>Total (Uts)</td>\n",
              "      <td>2001</td>\n",
              "      <td>Education_Status</td>\n",
              "      <td>Graduate</td>\n",
              "      <td>Female</td>\n",
              "      <td>0-100+</td>\n",
              "      <td>13.0</td>\n",
              "    </tr>\n",
              "    <tr>\n",
              "      <th>87295</th>\n",
              "      <td>Total (Uts)</td>\n",
              "      <td>2001</td>\n",
              "      <td>Education_Status</td>\n",
              "      <td>Post Graduate and Above</td>\n",
              "      <td>Female</td>\n",
              "      <td>0-100+</td>\n",
              "      <td>1.0</td>\n",
              "    </tr>\n",
              "    <tr>\n",
              "      <th>...</th>\n",
              "      <td>...</td>\n",
              "      <td>...</td>\n",
              "      <td>...</td>\n",
              "      <td>...</td>\n",
              "      <td>...</td>\n",
              "      <td>...</td>\n",
              "      <td>...</td>\n",
              "    </tr>\n",
              "    <tr>\n",
              "      <th>87590</th>\n",
              "      <td>Total (Uts)</td>\n",
              "      <td>2012</td>\n",
              "      <td>Social_Status</td>\n",
              "      <td>Never Married</td>\n",
              "      <td>Male</td>\n",
              "      <td>0-100+</td>\n",
              "      <td>569.0</td>\n",
              "    </tr>\n",
              "    <tr>\n",
              "      <th>87591</th>\n",
              "      <td>Total (Uts)</td>\n",
              "      <td>2012</td>\n",
              "      <td>Social_Status</td>\n",
              "      <td>Married</td>\n",
              "      <td>Male</td>\n",
              "      <td>0-100+</td>\n",
              "      <td>1220.0</td>\n",
              "    </tr>\n",
              "    <tr>\n",
              "      <th>87592</th>\n",
              "      <td>Total (Uts)</td>\n",
              "      <td>2012</td>\n",
              "      <td>Social_Status</td>\n",
              "      <td>Divorcee</td>\n",
              "      <td>Male</td>\n",
              "      <td>0-100+</td>\n",
              "      <td>2.0</td>\n",
              "    </tr>\n",
              "    <tr>\n",
              "      <th>87593</th>\n",
              "      <td>Total (Uts)</td>\n",
              "      <td>2012</td>\n",
              "      <td>Social_Status</td>\n",
              "      <td>Widowed/Widower</td>\n",
              "      <td>Male</td>\n",
              "      <td>0-100+</td>\n",
              "      <td>7.0</td>\n",
              "    </tr>\n",
              "    <tr>\n",
              "      <th>87594</th>\n",
              "      <td>Total (Uts)</td>\n",
              "      <td>2012</td>\n",
              "      <td>Social_Status</td>\n",
              "      <td>Seperated</td>\n",
              "      <td>Male</td>\n",
              "      <td>0-100+</td>\n",
              "      <td>42.0</td>\n",
              "    </tr>\n",
              "  </tbody>\n",
              "</table>\n",
              "<p>304 rows × 7 columns</p>\n",
              "</div>"
            ],
            "text/plain": [
              "             State  Year         Type_code  ...  Gender Age_group   Total\n",
              "87291  Total (Uts)  2001  Education_Status  ...  Female    0-100+   148.0\n",
              "87292  Total (Uts)  2001  Education_Status  ...  Female    0-100+   104.0\n",
              "87293  Total (Uts)  2001  Education_Status  ...  Female    0-100+    76.0\n",
              "87294  Total (Uts)  2001  Education_Status  ...  Female    0-100+    13.0\n",
              "87295  Total (Uts)  2001  Education_Status  ...  Female    0-100+     1.0\n",
              "...            ...   ...               ...  ...     ...       ...     ...\n",
              "87590  Total (Uts)  2012     Social_Status  ...    Male    0-100+   569.0\n",
              "87591  Total (Uts)  2012     Social_Status  ...    Male    0-100+  1220.0\n",
              "87592  Total (Uts)  2012     Social_Status  ...    Male    0-100+     2.0\n",
              "87593  Total (Uts)  2012     Social_Status  ...    Male    0-100+     7.0\n",
              "87594  Total (Uts)  2012     Social_Status  ...    Male    0-100+    42.0\n",
              "\n",
              "[304 rows x 7 columns]"
            ]
          },
          "metadata": {},
          "execution_count": 33
        }
      ]
    },
    {
      "cell_type": "code",
      "metadata": {
        "id": "oDpHEq7GgwXG"
      },
      "source": [
        "# Dropping all the rows having State as Toall all India, total states, total Uts\n",
        "df.drop(np.arange(86667,87595),axis=0,inplace=True,errors='ignore')"
      ],
      "execution_count": 34,
      "outputs": []
    },
    {
      "cell_type": "code",
      "metadata": {
        "colab": {
          "base_uri": "https://localhost:8080/"
        },
        "id": "Hr3ljmDDgwXG",
        "outputId": "9e7566fb-5ebe-4d33-bb59-5c74dba39c33"
      },
      "source": [
        "#new shape\n",
        "df.shape"
      ],
      "execution_count": null,
      "outputs": [
        {
          "output_type": "execute_result",
          "data": {
            "text/plain": [
              "(102038, 7)"
            ]
          },
          "metadata": {},
          "execution_count": 191
        }
      ]
    },
    {
      "cell_type": "markdown",
      "metadata": {
        "id": "0p-yYUQagwXH"
      },
      "source": [
        "#### The Final dataset "
      ]
    },
    {
      "cell_type": "code",
      "metadata": {
        "colab": {
          "base_uri": "https://localhost:8080/",
          "height": 269
        },
        "id": "ZPPiJjwFgwXI",
        "outputId": "711e77e0-2659-43f0-a627-9dc593a9130e"
      },
      "source": [
        "df.head(7)"
      ],
      "execution_count": null,
      "outputs": [
        {
          "output_type": "execute_result",
          "data": {
            "text/html": [
              "<div>\n",
              "<style scoped>\n",
              "    .dataframe tbody tr th:only-of-type {\n",
              "        vertical-align: middle;\n",
              "    }\n",
              "\n",
              "    .dataframe tbody tr th {\n",
              "        vertical-align: top;\n",
              "    }\n",
              "\n",
              "    .dataframe thead th {\n",
              "        text-align: right;\n",
              "    }\n",
              "</style>\n",
              "<table border=\"1\" class=\"dataframe\">\n",
              "  <thead>\n",
              "    <tr style=\"text-align: right;\">\n",
              "      <th></th>\n",
              "      <th>State</th>\n",
              "      <th>Year</th>\n",
              "      <th>Type_code</th>\n",
              "      <th>Type</th>\n",
              "      <th>Gender</th>\n",
              "      <th>Age_group</th>\n",
              "      <th>Total</th>\n",
              "    </tr>\n",
              "  </thead>\n",
              "  <tbody>\n",
              "    <tr>\n",
              "      <th>0</th>\n",
              "      <td>A &amp; N Islands</td>\n",
              "      <td>2001</td>\n",
              "      <td>Causes</td>\n",
              "      <td>Love Affairs</td>\n",
              "      <td>Female</td>\n",
              "      <td>0-14</td>\n",
              "      <td>1.0</td>\n",
              "    </tr>\n",
              "    <tr>\n",
              "      <th>1</th>\n",
              "      <td>A &amp; N Islands</td>\n",
              "      <td>2001</td>\n",
              "      <td>Causes</td>\n",
              "      <td>Other Causes (Please Specity)</td>\n",
              "      <td>Female</td>\n",
              "      <td>0-14</td>\n",
              "      <td>1.0</td>\n",
              "    </tr>\n",
              "    <tr>\n",
              "      <th>2</th>\n",
              "      <td>A &amp; N Islands</td>\n",
              "      <td>2001</td>\n",
              "      <td>Causes</td>\n",
              "      <td>Other Prolonged Illness</td>\n",
              "      <td>Male</td>\n",
              "      <td>0-14</td>\n",
              "      <td>1.0</td>\n",
              "    </tr>\n",
              "    <tr>\n",
              "      <th>3</th>\n",
              "      <td>A &amp; N Islands</td>\n",
              "      <td>2001</td>\n",
              "      <td>Causes</td>\n",
              "      <td>Failure in Examination</td>\n",
              "      <td>Male</td>\n",
              "      <td>0-14</td>\n",
              "      <td>1.0</td>\n",
              "    </tr>\n",
              "    <tr>\n",
              "      <th>4</th>\n",
              "      <td>A &amp; N Islands</td>\n",
              "      <td>2001</td>\n",
              "      <td>Causes</td>\n",
              "      <td>Other Prolonged Illness</td>\n",
              "      <td>Female</td>\n",
              "      <td>15-29</td>\n",
              "      <td>8.0</td>\n",
              "    </tr>\n",
              "    <tr>\n",
              "      <th>5</th>\n",
              "      <td>A &amp; N Islands</td>\n",
              "      <td>2001</td>\n",
              "      <td>Causes</td>\n",
              "      <td>Causes Not known</td>\n",
              "      <td>Female</td>\n",
              "      <td>15-29</td>\n",
              "      <td>8.0</td>\n",
              "    </tr>\n",
              "    <tr>\n",
              "      <th>6</th>\n",
              "      <td>A &amp; N Islands</td>\n",
              "      <td>2001</td>\n",
              "      <td>Causes</td>\n",
              "      <td>Other Causes (Please Specity)</td>\n",
              "      <td>Female</td>\n",
              "      <td>15-29</td>\n",
              "      <td>6.0</td>\n",
              "    </tr>\n",
              "  </tbody>\n",
              "</table>\n",
              "</div>"
            ],
            "text/plain": [
              "           State  Year Type_code  ...  Gender Age_group Total\n",
              "0  A & N Islands  2001    Causes  ...  Female      0-14   1.0\n",
              "1  A & N Islands  2001    Causes  ...  Female      0-14   1.0\n",
              "2  A & N Islands  2001    Causes  ...    Male      0-14   1.0\n",
              "3  A & N Islands  2001    Causes  ...    Male      0-14   1.0\n",
              "4  A & N Islands  2001    Causes  ...  Female     15-29   8.0\n",
              "5  A & N Islands  2001    Causes  ...  Female     15-29   8.0\n",
              "6  A & N Islands  2001    Causes  ...  Female     15-29   6.0\n",
              "\n",
              "[7 rows x 7 columns]"
            ]
          },
          "metadata": {},
          "execution_count": 192
        }
      ]
    },
    {
      "cell_type": "code",
      "metadata": {
        "colab": {
          "base_uri": "https://localhost:8080/"
        },
        "id": "-v8KpG_SgwXI",
        "outputId": "bcc597f8-0544-4d6b-9b6e-d638597cdcae"
      },
      "source": [
        "#different age groups\n",
        "df['Age_group'].unique()"
      ],
      "execution_count": null,
      "outputs": [
        {
          "output_type": "execute_result",
          "data": {
            "text/plain": [
              "array(['0-14', '15-29', '30-44', '45-59', '60+', '0-100+'], dtype=object)"
            ]
          },
          "metadata": {},
          "execution_count": 193
        }
      ]
    },
    {
      "cell_type": "code",
      "metadata": {
        "id": "zM8bWCr3gwXM"
      },
      "source": [
        "#Changing the age group to T=teenager,A=adult,S=senior\n",
        "df['Age_group'].replace(['0-14', '15-29', '30-44', '45-59', '60+', '0-100+'],['T','A','A','A','S','S'],inplace=True)"
      ],
      "execution_count": null,
      "outputs": []
    },
    {
      "cell_type": "code",
      "metadata": {
        "colab": {
          "base_uri": "https://localhost:8080/"
        },
        "id": "GzWkpxDcgwXN",
        "outputId": "f9bf1ea8-f71d-4dc6-f91f-e2acf9b5c4a0"
      },
      "source": [
        "df['Age_group'].unique()"
      ],
      "execution_count": null,
      "outputs": [
        {
          "output_type": "execute_result",
          "data": {
            "text/plain": [
              "array(['T', 'A', 'S'], dtype=object)"
            ]
          },
          "metadata": {},
          "execution_count": 195
        }
      ]
    },
    {
      "cell_type": "code",
      "metadata": {
        "colab": {
          "base_uri": "https://localhost:8080/",
          "height": 174
        },
        "id": "t6g0-BLCgwXN",
        "outputId": "143f97e8-e30d-497c-bdc3-610703892a58"
      },
      "source": [
        "df.head(4)"
      ],
      "execution_count": null,
      "outputs": [
        {
          "output_type": "execute_result",
          "data": {
            "text/html": [
              "<div>\n",
              "<style scoped>\n",
              "    .dataframe tbody tr th:only-of-type {\n",
              "        vertical-align: middle;\n",
              "    }\n",
              "\n",
              "    .dataframe tbody tr th {\n",
              "        vertical-align: top;\n",
              "    }\n",
              "\n",
              "    .dataframe thead th {\n",
              "        text-align: right;\n",
              "    }\n",
              "</style>\n",
              "<table border=\"1\" class=\"dataframe\">\n",
              "  <thead>\n",
              "    <tr style=\"text-align: right;\">\n",
              "      <th></th>\n",
              "      <th>State</th>\n",
              "      <th>Year</th>\n",
              "      <th>Type_code</th>\n",
              "      <th>Type</th>\n",
              "      <th>Gender</th>\n",
              "      <th>Age_group</th>\n",
              "      <th>Total</th>\n",
              "    </tr>\n",
              "  </thead>\n",
              "  <tbody>\n",
              "    <tr>\n",
              "      <th>0</th>\n",
              "      <td>A &amp; N Islands</td>\n",
              "      <td>2001</td>\n",
              "      <td>Causes</td>\n",
              "      <td>Love Affairs</td>\n",
              "      <td>Female</td>\n",
              "      <td>T</td>\n",
              "      <td>1.0</td>\n",
              "    </tr>\n",
              "    <tr>\n",
              "      <th>1</th>\n",
              "      <td>A &amp; N Islands</td>\n",
              "      <td>2001</td>\n",
              "      <td>Causes</td>\n",
              "      <td>Other Causes (Please Specity)</td>\n",
              "      <td>Female</td>\n",
              "      <td>T</td>\n",
              "      <td>1.0</td>\n",
              "    </tr>\n",
              "    <tr>\n",
              "      <th>2</th>\n",
              "      <td>A &amp; N Islands</td>\n",
              "      <td>2001</td>\n",
              "      <td>Causes</td>\n",
              "      <td>Other Prolonged Illness</td>\n",
              "      <td>Male</td>\n",
              "      <td>T</td>\n",
              "      <td>1.0</td>\n",
              "    </tr>\n",
              "    <tr>\n",
              "      <th>3</th>\n",
              "      <td>A &amp; N Islands</td>\n",
              "      <td>2001</td>\n",
              "      <td>Causes</td>\n",
              "      <td>Failure in Examination</td>\n",
              "      <td>Male</td>\n",
              "      <td>T</td>\n",
              "      <td>1.0</td>\n",
              "    </tr>\n",
              "  </tbody>\n",
              "</table>\n",
              "</div>"
            ],
            "text/plain": [
              "           State  Year Type_code  ...  Gender Age_group Total\n",
              "0  A & N Islands  2001    Causes  ...  Female         T   1.0\n",
              "1  A & N Islands  2001    Causes  ...  Female         T   1.0\n",
              "2  A & N Islands  2001    Causes  ...    Male         T   1.0\n",
              "3  A & N Islands  2001    Causes  ...    Male         T   1.0\n",
              "\n",
              "[4 rows x 7 columns]"
            ]
          },
          "metadata": {},
          "execution_count": 196
        }
      ]
    },
    {
      "cell_type": "code",
      "metadata": {
        "id": "I3YNU0LhgwXT"
      },
      "source": [
        "df['Year']=pd.to_datetime(df['Year'],format='%Y')"
      ],
      "execution_count": null,
      "outputs": []
    },
    {
      "cell_type": "code",
      "metadata": {
        "id": "yChem03wgwXT"
      },
      "source": [
        "df['Year']=df['Year'].dt.year"
      ],
      "execution_count": null,
      "outputs": []
    },
    {
      "cell_type": "code",
      "metadata": {
        "colab": {
          "base_uri": "https://localhost:8080/"
        },
        "id": "cRoK72KXgwXU",
        "outputId": "c555a615-5de8-4961-ee7f-59cb5f6efc43"
      },
      "source": [
        "df['Year']"
      ],
      "execution_count": null,
      "outputs": [
        {
          "output_type": "execute_result",
          "data": {
            "text/plain": [
              "0         2001\n",
              "1         2001\n",
              "2         2001\n",
              "3         2001\n",
              "4         2001\n",
              "          ... \n",
              "102033    2012\n",
              "102034    2012\n",
              "102035    2012\n",
              "102036    2012\n",
              "102037    2012\n",
              "Name: Year, Length: 102038, dtype: int64"
            ]
          },
          "metadata": {},
          "execution_count": 199
        }
      ]
    },
    {
      "cell_type": "code",
      "metadata": {
        "id": "GQNvi_FjgwXV"
      },
      "source": [
        "X_obt=df.drop(columns=['Total','Year','Type_code'],axis=1)\n",
        "Y=df['Total']"
      ],
      "execution_count": null,
      "outputs": []
    },
    {
      "cell_type": "markdown",
      "metadata": {
        "id": "7u455iZmgwXW"
      },
      "source": [
        "### handling categorical features"
      ]
    },
    {
      "cell_type": "code",
      "metadata": {
        "id": "N38aOZkAgwXX"
      },
      "source": [
        "# #Inspite of using this I will use pipeline and dump that pipeline so that it will help me in the predictions while running it with \n",
        "# #Flask\n",
        "\n",
        "# X=pd.get_dummies(X_obt,columns=['State','Type','Gender','Age_group'])"
      ],
      "execution_count": null,
      "outputs": []
    },
    {
      "cell_type": "code",
      "metadata": {
        "colab": {
          "base_uri": "https://localhost:8080/"
        },
        "id": "sRdza6PwgwXY",
        "outputId": "ec4314c7-1b06-46d6-b70c-b3f7b2830340"
      },
      "source": [
        "X.shape"
      ],
      "execution_count": null,
      "outputs": [
        {
          "output_type": "execute_result",
          "data": {
            "text/plain": [
              "(102038, 112)"
            ]
          },
          "metadata": {},
          "execution_count": 202
        }
      ]
    },
    {
      "cell_type": "markdown",
      "metadata": {
        "id": "VKqOu6fOgwXZ"
      },
      "source": [
        "##### Splitting and training model"
      ]
    },
    {
      "cell_type": "code",
      "metadata": {
        "id": "oN-QK-YmgwXa"
      },
      "source": [
        "X_train,X_test,Y_train,Y_test = train_test_split(X_obt, Y, test_size=0.30, random_state=20)"
      ],
      "execution_count": null,
      "outputs": []
    },
    {
      "cell_type": "code",
      "metadata": {
        "colab": {
          "base_uri": "https://localhost:8080/",
          "height": 143
        },
        "id": "xs0f9bB3gwXb",
        "outputId": "be89a41f-79b6-48d0-bdc5-948abba94cf2"
      },
      "source": [
        "X_test.head(3)"
      ],
      "execution_count": null,
      "outputs": [
        {
          "output_type": "execute_result",
          "data": {
            "text/html": [
              "<div>\n",
              "<style scoped>\n",
              "    .dataframe tbody tr th:only-of-type {\n",
              "        vertical-align: middle;\n",
              "    }\n",
              "\n",
              "    .dataframe tbody tr th {\n",
              "        vertical-align: top;\n",
              "    }\n",
              "\n",
              "    .dataframe thead th {\n",
              "        text-align: right;\n",
              "    }\n",
              "</style>\n",
              "<table border=\"1\" class=\"dataframe\">\n",
              "  <thead>\n",
              "    <tr style=\"text-align: right;\">\n",
              "      <th></th>\n",
              "      <th>State</th>\n",
              "      <th>Type</th>\n",
              "      <th>Gender</th>\n",
              "      <th>Age_group</th>\n",
              "    </tr>\n",
              "  </thead>\n",
              "  <tbody>\n",
              "    <tr>\n",
              "      <th>60730</th>\n",
              "      <td>Maharashtra</td>\n",
              "      <td>Cancellation/Non-Settlement of Marriage</td>\n",
              "      <td>Male</td>\n",
              "      <td>A</td>\n",
              "    </tr>\n",
              "    <tr>\n",
              "      <th>85733</th>\n",
              "      <td>Tamil Nadu</td>\n",
              "      <td>Service (Government)</td>\n",
              "      <td>Female</td>\n",
              "      <td>A</td>\n",
              "    </tr>\n",
              "    <tr>\n",
              "      <th>79468</th>\n",
              "      <td>Rajasthan</td>\n",
              "      <td>Causes Not known</td>\n",
              "      <td>Male</td>\n",
              "      <td>T</td>\n",
              "    </tr>\n",
              "  </tbody>\n",
              "</table>\n",
              "</div>"
            ],
            "text/plain": [
              "             State                                     Type  Gender Age_group\n",
              "60730  Maharashtra  Cancellation/Non-Settlement of Marriage    Male         A\n",
              "85733   Tamil Nadu                     Service (Government)  Female         A\n",
              "79468    Rajasthan                         Causes Not known    Male         T"
            ]
          },
          "metadata": {},
          "execution_count": 206
        }
      ]
    },
    {
      "cell_type": "code",
      "metadata": {
        "id": "1yxl2cMCgwXc"
      },
      "source": [
        "rmse=[]\n",
        "msle=[]"
      ],
      "execution_count": null,
      "outputs": []
    },
    {
      "cell_type": "markdown",
      "metadata": {
        "id": "mD9NqgAUgwXc"
      },
      "source": [
        "### Checking all the models"
      ]
    },
    {
      "cell_type": "code",
      "metadata": {
        "id": "RY7BHebSgwXe"
      },
      "source": [
        "from sklearn.linear_model import LinearRegression\n",
        "model=LinearRegression()\n",
        "model.fit(X_train,Y_train)\n",
        "predictions=abs(model.predict(X_test).round())\n",
        "#RMSE\n",
        "rmse_obt=mean_squared_error(Y_test,predictions, squared=False)\n",
        "#mean squared log loss\n",
        "msle_obt=mean_squared_log_error(Y_test,predictions)\n",
        "rmse.append(float(rmse_obt))\n",
        "msle.append(float(msle_obt))"
      ],
      "execution_count": null,
      "outputs": []
    },
    {
      "cell_type": "code",
      "metadata": {
        "id": "yqMmYW17gwXe"
      },
      "source": [
        "from sklearn.ensemble import RandomForestRegressor\n",
        "model=RandomForestRegressor()\n",
        "model.fit(X_train,Y_train)\n",
        "predictions=abs(model.predict(X_test).round())\n",
        "#RMSE\n",
        "rmse_obt=mean_squared_error(Y_test,predictions, squared=False)\n",
        "#mean squared log loss\n",
        "msle_obt=mean_squared_log_error(Y_test,predictions)\n",
        "rmse.append(float(rmse_obt))\n",
        "msle.append(float(msle_obt))"
      ],
      "execution_count": null,
      "outputs": []
    },
    {
      "cell_type": "code",
      "metadata": {
        "id": "EnOYqUVugwXf"
      },
      "source": [
        "model=DecisionTreeRegressor()\n",
        "model.fit(X_train,Y_train)\n",
        "predictions=abs(model.predict(X_test).round())\n",
        "#RMSE\n",
        "rmse_obt=mean_squared_error(Y_test,predictions, squared=False)\n",
        "#mean squared log loss\n",
        "msle_obt=mean_squared_log_error(Y_test,predictions)\n",
        "rmse.append(float(rmse_obt))\n",
        "msle.append(float(msle_obt))"
      ],
      "execution_count": null,
      "outputs": []
    },
    {
      "cell_type": "code",
      "metadata": {
        "colab": {
          "base_uri": "https://localhost:8080/"
        },
        "id": "Dt_qCITFgwXf",
        "outputId": "09763bf3-b44a-4340-ddb8-368eb9fdabb0"
      },
      "source": [
        "import xgboost as xg \n",
        "xgb_r = xg.XGBRegressor()\n",
        "xgb_r.fit(X_train,Y_train)\n",
        "predictions=abs(xgb_r.predict(X_test).round())\n",
        "#RMSE\n",
        "rmse_obt=mean_squared_error(Y_test,predictions, squared=False)\n",
        "#mean squared log loss\n",
        "msle_obt=mean_squared_log_error(Y_test,predictions)\n",
        "rmse.append(rmse_obt)\n",
        "msle.append(msle_obt)"
      ],
      "execution_count": null,
      "outputs": [
        {
          "output_type": "stream",
          "name": "stdout",
          "text": [
            "[09:15:33] WARNING: /workspace/src/objective/regression_obj.cu:152: reg:linear is now deprecated in favor of reg:squarederror.\n"
          ]
        }
      ]
    },
    {
      "cell_type": "code",
      "metadata": {
        "id": "Dn6yzqxZgwXg"
      },
      "source": [
        "# from sklearn.svm import SVR\n",
        "# model=SVR()\n",
        "# model.fit(X_train,Y_train)\n",
        "# predictions=abs(model.predict(X_test).round())\n",
        "# #RMSE\n",
        "# rmse_obt=mean_squared_error(Y_test,predictions, squared=False)\n",
        "# #mean squared log loss\n",
        "# msle_obt=mean_squared_log_error(Y_test,predictions)\n",
        "# rmse.append(float(rmse_obt))\n",
        "# msle.append(float(msle_obt))"
      ],
      "execution_count": null,
      "outputs": []
    },
    {
      "cell_type": "code",
      "metadata": {
        "colab": {
          "base_uri": "https://localhost:8080/"
        },
        "id": "PpVUiTgmgwXg",
        "outputId": "818fab7f-35a5-4263-e773-587ff92ecdc4"
      },
      "source": [
        "print({'Rmse':rmse,\"Msle\":msle})"
      ],
      "execution_count": null,
      "outputs": [
        {
          "output_type": "stream",
          "name": "stdout",
          "text": [
            "{'Rmse': [1050.6470292133192, 141.5628904071103, 141.1415477295469, 368.5250259619077], 'Msle': [5.43972654202496, 0.47084481081606927, 0.4668975832735623, 3.529678445743093]}\n"
          ]
        }
      ]
    },
    {
      "cell_type": "markdown",
      "metadata": {
        "id": "yStMQ7nFgwXg"
      },
      "source": [
        "From the data it is clear that the Decision Tree Regressor gives the least error"
      ]
    },
    {
      "cell_type": "markdown",
      "metadata": {
        "id": "t5MSyV2KgwXg"
      },
      "source": [
        "### Hyper parameter tuning"
      ]
    },
    {
      "cell_type": "code",
      "metadata": {
        "id": "YVo3L5YBgwXh"
      },
      "source": [
        "# model = DecisionTreeRegressor()                    \n",
        "# parameters = param_grid = {\n",
        "#               \"max_leaf_nodes\": [4500,4900,4950,5000],\n",
        "#               }\n",
        "# LS_rs = GridSearchCV(estimator=model, param_grid=parameters, cv=5,scoring='neg_mean_squared_log_error')   #fit model to data\n",
        "# LS_rs.fit(X_train, Y_train)\n",
        "# print(f'The best value of parameters is :- {LS_rs.best_params_} and the best score is {LS_rs.best_score_}')"
      ],
      "execution_count": null,
      "outputs": []
    },
    {
      "cell_type": "markdown",
      "metadata": {
        "id": "q-CO0-JggwXh"
      },
      "source": [
        "# New part(using pipeline to handle categorical feature and model)"
      ]
    },
    {
      "cell_type": "markdown",
      "metadata": {
        "id": "LwxP7il5gwXi"
      },
      "source": [
        "### Finaly training the model with whole data"
      ]
    },
    {
      "cell_type": "code",
      "metadata": {
        "id": "_H_m_w3YgwXi"
      },
      "source": [
        "# model=DecisionTreeRegressor(random_state=0,max_leaf_nodes=4900)\n",
        "# model.fit(X,Y)"
      ],
      "execution_count": null,
      "outputs": []
    },
    {
      "cell_type": "code",
      "metadata": {
        "id": "AC6l6c3_gwXj"
      },
      "source": [
        "new_pipeline=Pipeline([('enc',OneHotEncoder()),\n",
        "                       ('model',DecisionTreeRegressor(random_state=0,max_leaf_nodes=4900))])"
      ],
      "execution_count": null,
      "outputs": []
    },
    {
      "cell_type": "code",
      "metadata": {
        "colab": {
          "base_uri": "https://localhost:8080/"
        },
        "id": "ZCYGvu6ogwXk",
        "outputId": "a0c6cd5b-8634-48a5-9320-354a8b83ae95"
      },
      "source": [
        "new_pipeline.fit(X_train,Y_train)"
      ],
      "execution_count": null,
      "outputs": [
        {
          "output_type": "execute_result",
          "data": {
            "text/plain": [
              "Pipeline(steps=[('enc', OneHotEncoder()),\n",
              "                ('model',\n",
              "                 DecisionTreeRegressor(max_leaf_nodes=4900, random_state=0))])"
            ]
          },
          "metadata": {},
          "execution_count": 222
        }
      ]
    },
    {
      "cell_type": "code",
      "metadata": {
        "id": "1MdtLb0ogwXk"
      },
      "source": [
        "predictions=new_pipeline.predict(X_test).round()"
      ],
      "execution_count": null,
      "outputs": []
    },
    {
      "cell_type": "code",
      "metadata": {
        "id": "8prnlefFgwXl"
      },
      "source": [
        "np.sqrt(mean_squared_error(Y_test,predictions))"
      ],
      "execution_count": null,
      "outputs": []
    },
    {
      "cell_type": "markdown",
      "metadata": {
        "id": "gWIFuRf7gwXm"
      },
      "source": [
        "### Dumping the model"
      ]
    },
    {
      "cell_type": "code",
      "metadata": {
        "id": "JYuMov1xgwXn"
      },
      "source": [
        "pickle.dump(new_pipeline,open('suicide_model_pipe.pkl','wb'))"
      ],
      "execution_count": null,
      "outputs": []
    },
    {
      "cell_type": "code",
      "metadata": {
        "scrolled": true,
        "id": "c19GrfO6gwXn"
      },
      "source": [
        "# #for loading\n",
        "model=pickle.load(open('suicide_model_pipe.pkl','rb'))"
      ],
      "execution_count": null,
      "outputs": []
    },
    {
      "cell_type": "markdown",
      "metadata": {
        "id": "-Hpt3nwqgwXo"
      },
      "source": [
        "### Some testing for  Deployment"
      ]
    },
    {
      "cell_type": "code",
      "metadata": {
        "id": "y6e2JIZmgwXo"
      },
      "source": [
        "# X_obt.to_csv('new_deploy.csv',index=False)"
      ],
      "execution_count": null,
      "outputs": []
    },
    {
      "cell_type": "code",
      "metadata": {
        "id": "tRS_ftXTgwXp"
      },
      "source": [
        "X_obt=pd.read_csv('new_deploy.csv')"
      ],
      "execution_count": null,
      "outputs": []
    },
    {
      "cell_type": "code",
      "metadata": {
        "id": "V7xZPY4MgwXq"
      },
      "source": [
        "d={'State':['Assam'],'Type':['Dowry Dispute'],'Gender':['Female'],'Age_group':['A']}"
      ],
      "execution_count": null,
      "outputs": []
    },
    {
      "cell_type": "code",
      "metadata": {
        "id": "LjYGvPLNgwXq"
      },
      "source": [
        "new_data=pd.DataFrame(data=d)"
      ],
      "execution_count": null,
      "outputs": []
    },
    {
      "cell_type": "code",
      "metadata": {
        "id": "BeX-tqBSgwXr"
      },
      "source": [
        "df_final=pd.concat([X_obt,new_data],axis=0)"
      ],
      "execution_count": null,
      "outputs": []
    },
    {
      "cell_type": "code",
      "metadata": {
        "id": "hHSWQmu5gwXs"
      },
      "source": [
        "df_final=df_final.reset_index()"
      ],
      "execution_count": null,
      "outputs": []
    },
    {
      "cell_type": "code",
      "metadata": {
        "id": "_TuaAYvogwXs"
      },
      "source": [
        "df_final.drop(columns='index',inplace=True)"
      ],
      "execution_count": null,
      "outputs": []
    },
    {
      "cell_type": "code",
      "metadata": {
        "id": "Jzfz2O0MgwXt"
      },
      "source": [
        "df_final_dummy=pd.get_dummies(df_final,columns=['State','Type','Gender','Age_group'])"
      ],
      "execution_count": null,
      "outputs": []
    },
    {
      "cell_type": "code",
      "metadata": {
        "id": "XLWfxi0-gwXu",
        "outputId": "9c6c922f-9f35-4e7d-d319-7d8fe075fadd"
      },
      "source": [
        "df_final_dummy.tail(3)\n",
        "df_final_dummy.columns"
      ],
      "execution_count": null,
      "outputs": [
        {
          "data": {
            "text/plain": [
              "Index(['State_A & N Islands', 'State_Andhra Pradesh',\n",
              "       'State_Arunachal Pradesh', 'State_Assam', 'State_Bihar',\n",
              "       'State_Chandigarh', 'State_Chhattisgarh', 'State_D & N Haveli',\n",
              "       'State_Daman & Diu', 'State_Delhi (Ut)',\n",
              "       ...\n",
              "       'Type_Student', 'Type_Suspected/Illicit Relation', 'Type_Unemployed',\n",
              "       'Type_Unemployment', 'Type_Widowed/Widower', 'Gender_Female',\n",
              "       'Gender_Male', 'Age_group_A', 'Age_group_S', 'Age_group_T'],\n",
              "      dtype='object', length=109)"
            ]
          },
          "execution_count": 67,
          "metadata": {},
          "output_type": "execute_result"
        }
      ]
    },
    {
      "cell_type": "code",
      "metadata": {
        "id": "202lRcYGgwXv"
      },
      "source": [
        "# a_chk=X.columns\n",
        "# b_chk=df_final_dummy.columns\n",
        "# for i in (0,112):\n",
        "#     if b_chk[i] != a_chk[i]:\n",
        "#         print(b_chk[i])"
      ],
      "execution_count": null,
      "outputs": []
    },
    {
      "cell_type": "code",
      "metadata": {
        "id": "q5B7ZFkPgwXx"
      },
      "source": [
        "model.predict(test).round()"
      ],
      "execution_count": null,
      "outputs": []
    },
    {
      "cell_type": "code",
      "metadata": {
        "id": "u8bjllAVgwXy"
      },
      "source": [
        "#     d={'State':['Assam'],'Type':['Dowry Dispute'],'Gender':['Female'],'Age_group':['T']}\n",
        "#     new_data=pd.DataFrame(data=d)\n",
        "#     df_final=pd.concat([X_obt,new_data],axis=0)\n",
        "#     df_final=df_final.reset_index()\n",
        "#     df_final.drop(columns='index',inplace=True)\n",
        "#     df_final_dummy=pd.get_dummies(df_final,columns=['State','Type','Gender','Age_group'])\n",
        "#     test=df_final_dummy.iloc[101110].values.reshape(1,-1)\n",
        "#     prediction_test=model.predict(test).round()"
      ],
      "execution_count": null,
      "outputs": []
    },
    {
      "cell_type": "code",
      "metadata": {
        "id": "11x3a9YfgwXz",
        "outputId": "2c04366f-2bff-46da-db95-0f4ed62f43de"
      },
      "source": [
        "#R square\n",
        "from sklearn.metrics import r2_score\n",
        "r2_score(Y_test,predictions)\n",
        "#Adjusted R square\n",
        "print(1-(1-r2_score(Y_test, predictions))*((len(X_test)-1)/(len(X_test)-len(X_test.columns)-1)))"
      ],
      "execution_count": null,
      "outputs": [
        {
          "data": {
            "text/plain": [
              "'2.3.0'"
            ]
          },
          "execution_count": 149,
          "metadata": {},
          "output_type": "execute_result"
        }
      ]
    },
    {
      "cell_type": "code",
      "metadata": {
        "id": "jO6Z60_ugwXz",
        "outputId": "55a49786-eb86-4660-f013-15007647c95d"
      },
      "source": [
        "X_train.shape"
      ],
      "execution_count": null,
      "outputs": [
        {
          "data": {
            "text/plain": [
              "(70777, 109)"
            ]
          },
          "execution_count": 248,
          "metadata": {},
          "output_type": "execute_result"
        }
      ]
    },
    {
      "cell_type": "code",
      "metadata": {
        "id": "8v0NkgHXgwX0"
      },
      "source": [
        "X_train=np.array(X_train)"
      ],
      "execution_count": null,
      "outputs": []
    },
    {
      "cell_type": "code",
      "metadata": {
        "id": "O5qCh7SAgwX1",
        "outputId": "1b615681-ffb5-4b8a-80bb-aa070b209369"
      },
      "source": [
        "#ANN\n",
        "import tensorflow as tf\n",
        "from tensorflow import keras\n",
        "model=keras.Sequential()\n",
        "model.add(keras.layers.Dense(units=300,activation='relu',input_shape=(X_train.shape[0],X_train.shape[1])))\n",
        "model.add(keras.layers.Dense(units=100,activation='relu'))\n",
        "model.add(keras.layers.Dense(units=100,activation='relu'))\n",
        "model.add(keras.layers.Dense(units=100,activation='relu'))\n",
        "model.add(keras.layers.Dense(units=100,activation='relu'))\n",
        "model.add(keras.layers.Dense(units=1))\n",
        "model.compile(optimizer='adam',loss=tf.keras.losses.MeanAbsoluteError(),metrics=['mse'])\n",
        "model.fit(X_train,Y_train,epochs=1)"
      ],
      "execution_count": null,
      "outputs": [
        {
          "name": "stdout",
          "output_type": "stream",
          "text": [
            "WARNING:tensorflow:Model was constructed with shape (None, 70777, 109) for input Tensor(\"dense_37_input:0\", shape=(None, 70777, 109), dtype=float32), but it was called on an input with incompatible shape (None, 109).\n",
            "WARNING:tensorflow:Model was constructed with shape (None, 70777, 109) for input Tensor(\"dense_37_input:0\", shape=(None, 70777, 109), dtype=float32), but it was called on an input with incompatible shape (None, 109).\n",
            "2212/2212 [==============================] - 4s 2ms/step - loss: 33.8036 - mse: 17529.6172\n"
          ]
        },
        {
          "data": {
            "text/plain": [
              "<tensorflow.python.keras.callbacks.History at 0x2c169270ca0>"
            ]
          },
          "execution_count": 249,
          "metadata": {},
          "output_type": "execute_result"
        }
      ]
    },
    {
      "cell_type": "code",
      "metadata": {
        "id": "JekbnCMFgwX2",
        "outputId": "323531a8-c4bd-48cf-c632-b8c6f72f4c4f"
      },
      "source": [
        "predictions=model.predict(X_test)"
      ],
      "execution_count": null,
      "outputs": [
        {
          "name": "stdout",
          "output_type": "stream",
          "text": [
            "WARNING:tensorflow:Model was constructed with shape (None, 70777, 109) for input Tensor(\"dense_31_input:0\", shape=(None, 70777, 109), dtype=float32), but it was called on an input with incompatible shape (None, 109).\n"
          ]
        }
      ]
    },
    {
      "cell_type": "code",
      "metadata": {
        "id": "NvPMBKhigwX3",
        "outputId": "3126e23d-eb23-4ad8-db74-3b1ffaa50919"
      },
      "source": [
        "predictions"
      ],
      "execution_count": null,
      "outputs": [
        {
          "data": {
            "text/plain": [
              "array([[566.6475  ],\n",
              "       [ 14.724484],\n",
              "       [  2.046275],\n",
              "       ...,\n",
              "       [520.5844  ],\n",
              "       [ 16.142767],\n",
              "       [ 15.592174]], dtype=float32)"
            ]
          },
          "execution_count": 227,
          "metadata": {},
          "output_type": "execute_result"
        }
      ]
    },
    {
      "cell_type": "code",
      "metadata": {
        "id": "5XGM44TFgwX3",
        "outputId": "793d0462-473a-47a8-ddf6-2603ef440bcc"
      },
      "source": [
        "Y_test"
      ],
      "execution_count": null,
      "outputs": [
        {
          "data": {
            "text/plain": [
              "69154    699.0\n",
              "931       20.0\n",
              "21975      2.0\n",
              "18593     14.0\n",
              "55834      2.0\n",
              "         ...  \n",
              "71496      1.0\n",
              "24882     18.0\n",
              "52722    467.0\n",
              "71362     12.0\n",
              "5826      20.0\n",
              "Name: Total, Length: 30333, dtype: float64"
            ]
          },
          "execution_count": 228,
          "metadata": {},
          "output_type": "execute_result"
        }
      ]
    },
    {
      "cell_type": "code",
      "metadata": {
        "id": "RpP7ArlSgwX4",
        "outputId": "c1d6eeca-786c-49d5-cfd7-537ea8e16f6e"
      },
      "source": [
        "#R square\n",
        "from sklearn.metrics import r2_score\n",
        "print(r2_score(Y_test,predictions))\n",
        "#Adjusted R square\n",
        "print(1-(1-r2_score(Y_test, predictions))*((len(X_test)-1)/(len(X_test)-len(X_test.columns)-1)))"
      ],
      "execution_count": null,
      "outputs": [
        {
          "name": "stdout",
          "output_type": "stream",
          "text": [
            "0.9379276850549823\n",
            "0.9377038197097483\n"
          ]
        }
      ]
    }
  ]
}